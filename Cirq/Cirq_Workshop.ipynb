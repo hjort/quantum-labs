{
  "nbformat": 4,
  "nbformat_minor": 0,
  "metadata": {
    "colab": {
      "provenance": [],
      "toc_visible": true
    },
    "kernelspec": {
      "name": "python3",
      "display_name": "Python 3"
    },
    "language_info": {
      "name": "python"
    }
  },
  "cells": [
    {
      "cell_type": "markdown",
      "source": [
        "https://quantumai.google/cirq/start/intro"
      ],
      "metadata": {
        "id": "OQPgS9_CmEne"
      }
    },
    {
      "cell_type": "code",
      "execution_count": null,
      "metadata": {
        "colab": {
          "base_uri": "https://localhost:8080/"
        },
        "id": "O5T3SgVql7Kc",
        "outputId": "e9f29ead-6475-44d2-e3fe-573d89d79afe"
      },
      "outputs": [
        {
          "output_type": "stream",
          "name": "stdout",
          "text": [
            "installing cirq...\n",
            "\u001b[2K     \u001b[90m━━━━━━━━━━━━━━━━━━━━━━━━━━━━━━━━━━━━━━━━\u001b[0m \u001b[32m1.8/1.8 MB\u001b[0m \u001b[31m29.8 MB/s\u001b[0m eta \u001b[36m0:00:00\u001b[0m\n",
            "\u001b[2K     \u001b[90m━━━━━━━━━━━━━━━━━━━━━━━━━━━━━━━━━━━━━━━━\u001b[0m \u001b[32m141.1/141.1 kB\u001b[0m \u001b[31m17.7 MB/s\u001b[0m eta \u001b[36m0:00:00\u001b[0m\n",
            "\u001b[2K     \u001b[90m━━━━━━━━━━━━━━━━━━━━━━━━━━━━━━━━━━━━━━━━\u001b[0m \u001b[32m598.5/598.5 kB\u001b[0m \u001b[31m42.7 MB/s\u001b[0m eta \u001b[36m0:00:00\u001b[0m\n",
            "\u001b[2K     \u001b[90m━━━━━━━━━━━━━━━━━━━━━━━━━━━━━━━━━━━━━━━━\u001b[0m \u001b[32m60.8/60.8 kB\u001b[0m \u001b[31m4.5 MB/s\u001b[0m eta \u001b[36m0:00:00\u001b[0m\n",
            "\u001b[2K     \u001b[90m━━━━━━━━━━━━━━━━━━━━━━━━━━━━━━━━━━━━━━━━\u001b[0m \u001b[32m66.1/66.1 kB\u001b[0m \u001b[31m7.4 MB/s\u001b[0m eta \u001b[36m0:00:00\u001b[0m\n",
            "\u001b[2K     \u001b[90m━━━━━━━━━━━━━━━━━━━━━━━━━━━━━━━━━━━━━━━━\u001b[0m \u001b[32m596.6/596.6 kB\u001b[0m \u001b[31m48.4 MB/s\u001b[0m eta \u001b[36m0:00:00\u001b[0m\n",
            "\u001b[2K     \u001b[90m━━━━━━━━━━━━━━━━━━━━━━━━━━━━━━━━━━━━━━━━\u001b[0m \u001b[32m223.8/223.8 kB\u001b[0m \u001b[31m29.4 MB/s\u001b[0m eta \u001b[36m0:00:00\u001b[0m\n",
            "\u001b[2K     \u001b[90m━━━━━━━━━━━━━━━━━━━━━━━━━━━━━━━━━━━━━━━━\u001b[0m \u001b[32m229.9/229.9 kB\u001b[0m \u001b[31m25.7 MB/s\u001b[0m eta \u001b[36m0:00:00\u001b[0m\n",
            "\u001b[?25h  Preparing metadata (setup.py) ... \u001b[?25l\u001b[?25hdone\n",
            "\u001b[2K     \u001b[90m━━━━━━━━━━━━━━━━━━━━━━━━━━━━━━━━━━━━━━━━\u001b[0m \u001b[32m151.7/151.7 kB\u001b[0m \u001b[31m20.0 MB/s\u001b[0m eta \u001b[36m0:00:00\u001b[0m\n",
            "\u001b[2K     \u001b[90m━━━━━━━━━━━━━━━━━━━━━━━━━━━━━━━━━━━━━━━━\u001b[0m \u001b[32m45.6/45.6 kB\u001b[0m \u001b[31m5.7 MB/s\u001b[0m eta \u001b[36m0:00:00\u001b[0m\n",
            "\u001b[?25h  Preparing metadata (setup.py) ... \u001b[?25l\u001b[?25hdone\n",
            "\u001b[2K     \u001b[90m━━━━━━━━━━━━━━━━━━━━━━━━━━━━━━━━━━━━━━━━\u001b[0m \u001b[32m1.6/1.6 MB\u001b[0m \u001b[31m56.4 MB/s\u001b[0m eta \u001b[36m0:00:00\u001b[0m\n",
            "\u001b[2K     \u001b[90m━━━━━━━━━━━━━━━━━━━━━━━━━━━━━━━━━━━━━━━━\u001b[0m \u001b[32m151.7/151.7 kB\u001b[0m \u001b[31m7.4 MB/s\u001b[0m eta \u001b[36m0:00:00\u001b[0m\n",
            "\u001b[2K     \u001b[90m━━━━━━━━━━━━━━━━━━━━━━━━━━━━━━━━━━━━━━━━\u001b[0m \u001b[32m151.7/151.7 kB\u001b[0m \u001b[31m11.3 MB/s\u001b[0m eta \u001b[36m0:00:00\u001b[0m\n",
            "\u001b[2K     \u001b[90m━━━━━━━━━━━━━━━━━━━━━━━━━━━━━━━━━━━━━━━━\u001b[0m \u001b[32m147.4/147.4 kB\u001b[0m \u001b[31m11.7 MB/s\u001b[0m eta \u001b[36m0:00:00\u001b[0m\n",
            "\u001b[2K     \u001b[90m━━━━━━━━━━━━━━━━━━━━━━━━━━━━━━━━━━━━━━━━\u001b[0m \u001b[32m147.4/147.4 kB\u001b[0m \u001b[31m18.2 MB/s\u001b[0m eta \u001b[36m0:00:00\u001b[0m\n",
            "\u001b[2K     \u001b[90m━━━━━━━━━━━━━━━━━━━━━━━━━━━━━━━━━━━━━━━━\u001b[0m \u001b[32m147.4/147.4 kB\u001b[0m \u001b[31m11.0 MB/s\u001b[0m eta \u001b[36m0:00:00\u001b[0m\n",
            "\u001b[2K     \u001b[90m━━━━━━━━━━━━━━━━━━━━━━━━━━━━━━━━━━━━━━━━\u001b[0m \u001b[32m142.7/142.7 kB\u001b[0m \u001b[31m12.5 MB/s\u001b[0m eta \u001b[36m0:00:00\u001b[0m\n",
            "\u001b[2K     \u001b[90m━━━━━━━━━━━━━━━━━━━━━━━━━━━━━━━━━━━━━━━━\u001b[0m \u001b[32m83.6/83.6 kB\u001b[0m \u001b[31m8.9 MB/s\u001b[0m eta \u001b[36m0:00:00\u001b[0m\n",
            "\u001b[2K     \u001b[90m━━━━━━━━━━━━━━━━━━━━━━━━━━━━━━━━━━━━━━━━\u001b[0m \u001b[32m83.3/83.3 kB\u001b[0m \u001b[31m3.0 MB/s\u001b[0m eta \u001b[36m0:00:00\u001b[0m\n",
            "\u001b[2K     \u001b[90m━━━━━━━━━━━━━━━━━━━━━━━━━━━━━━━━━━━━━━━━\u001b[0m \u001b[32m83.4/83.4 kB\u001b[0m \u001b[31m4.2 MB/s\u001b[0m eta \u001b[36m0:00:00\u001b[0m\n",
            "\u001b[2K     \u001b[90m━━━━━━━━━━━━━━━━━━━━━━━━━━━━━━━━━━━━━━━━\u001b[0m \u001b[32m83.2/83.2 kB\u001b[0m \u001b[31m8.5 MB/s\u001b[0m eta \u001b[36m0:00:00\u001b[0m\n",
            "\u001b[2K     \u001b[90m━━━━━━━━━━━━━━━━━━━━━━━━━━━━━━━━━━━━━━━━\u001b[0m \u001b[32m82.5/82.5 kB\u001b[0m \u001b[31m5.9 MB/s\u001b[0m eta \u001b[36m0:00:00\u001b[0m\n",
            "\u001b[2K     \u001b[90m━━━━━━━━━━━━━━━━━━━━━━━━━━━━━━━━━━━━━━━━\u001b[0m \u001b[32m81.0/81.0 kB\u001b[0m \u001b[31m9.4 MB/s\u001b[0m eta \u001b[36m0:00:00\u001b[0m\n",
            "\u001b[2K     \u001b[90m━━━━━━━━━━━━━━━━━━━━━━━━━━━━━━━━━━━━━━━━\u001b[0m \u001b[32m81.0/81.0 kB\u001b[0m \u001b[31m8.8 MB/s\u001b[0m eta \u001b[36m0:00:00\u001b[0m\n",
            "\u001b[2K     \u001b[90m━━━━━━━━━━━━━━━━━━━━━━━━━━━━━━━━━━━━━━━━\u001b[0m \u001b[32m80.8/80.8 kB\u001b[0m \u001b[31m9.1 MB/s\u001b[0m eta \u001b[36m0:00:00\u001b[0m\n",
            "\u001b[2K     \u001b[90m━━━━━━━━━━━━━━━━━━━━━━━━━━━━━━━━━━━━━━━━\u001b[0m \u001b[32m80.7/80.7 kB\u001b[0m \u001b[31m9.4 MB/s\u001b[0m eta \u001b[36m0:00:00\u001b[0m\n",
            "\u001b[2K     \u001b[90m━━━━━━━━━━━━━━━━━━━━━━━━━━━━━━━━━━━━━━━━\u001b[0m \u001b[32m81.5/81.5 kB\u001b[0m \u001b[31m9.2 MB/s\u001b[0m eta \u001b[36m0:00:00\u001b[0m\n",
            "\u001b[2K     \u001b[90m━━━━━━━━━━━━━━━━━━━━━━━━━━━━━━━━━━━━━━━━\u001b[0m \u001b[32m81.5/81.5 kB\u001b[0m \u001b[31m9.1 MB/s\u001b[0m eta \u001b[36m0:00:00\u001b[0m\n",
            "\u001b[2K     \u001b[90m━━━━━━━━━━━━━━━━━━━━━━━━━━━━━━━━━━━━━━━━\u001b[0m \u001b[32m81.3/81.3 kB\u001b[0m \u001b[31m8.6 MB/s\u001b[0m eta \u001b[36m0:00:00\u001b[0m\n",
            "\u001b[2K     \u001b[90m━━━━━━━━━━━━━━━━━━━━━━━━━━━━━━━━━━━━━━━━\u001b[0m \u001b[32m80.6/80.6 kB\u001b[0m \u001b[31m9.5 MB/s\u001b[0m eta \u001b[36m0:00:00\u001b[0m\n",
            "\u001b[2K     \u001b[90m━━━━━━━━━━━━━━━━━━━━━━━━━━━━━━━━━━━━━━━━\u001b[0m \u001b[32m81.2/81.2 kB\u001b[0m \u001b[31m9.3 MB/s\u001b[0m eta \u001b[36m0:00:00\u001b[0m\n",
            "\u001b[2K     \u001b[90m━━━━━━━━━━━━━━━━━━━━━━━━━━━━━━━━━━━━━━━━\u001b[0m \u001b[32m81.2/81.2 kB\u001b[0m \u001b[31m9.4 MB/s\u001b[0m eta \u001b[36m0:00:00\u001b[0m\n",
            "\u001b[2K     \u001b[90m━━━━━━━━━━━━━━━━━━━━━━━━━━━━━━━━━━━━━━━━\u001b[0m \u001b[32m80.5/80.5 kB\u001b[0m \u001b[31m7.0 MB/s\u001b[0m eta \u001b[36m0:00:00\u001b[0m\n",
            "\u001b[2K     \u001b[90m━━━━━━━━━━━━━━━━━━━━━━━━━━━━━━━━━━━━━━━━\u001b[0m \u001b[32m80.4/80.4 kB\u001b[0m \u001b[31m9.7 MB/s\u001b[0m eta \u001b[36m0:00:00\u001b[0m\n",
            "\u001b[2K     \u001b[90m━━━━━━━━━━━━━━━━━━━━━━━━━━━━━━━━━━━━━━━━\u001b[0m \u001b[32m79.9/79.9 kB\u001b[0m \u001b[31m9.3 MB/s\u001b[0m eta \u001b[36m0:00:00\u001b[0m\n",
            "\u001b[2K     \u001b[90m━━━━━━━━━━━━━━━━━━━━━━━━━━━━━━━━━━━━━━━━\u001b[0m \u001b[32m79.8/79.8 kB\u001b[0m \u001b[31m8.5 MB/s\u001b[0m eta \u001b[36m0:00:00\u001b[0m\n",
            "\u001b[2K     \u001b[90m━━━━━━━━━━━━━━━━━━━━━━━━━━━━━━━━━━━━━━━━\u001b[0m \u001b[32m79.5/79.5 kB\u001b[0m \u001b[31m8.5 MB/s\u001b[0m eta \u001b[36m0:00:00\u001b[0m\n",
            "\u001b[2K     \u001b[90m━━━━━━━━━━━━━━━━━━━━━━━━━━━━━━━━━━━━━━━━\u001b[0m \u001b[32m90.4/90.4 kB\u001b[0m \u001b[31m6.7 MB/s\u001b[0m eta \u001b[36m0:00:00\u001b[0m\n",
            "\u001b[2K     \u001b[90m━━━━━━━━━━━━━━━━━━━━━━━━━━━━━━━━━━━━━━━━\u001b[0m \u001b[32m117.7/117.7 kB\u001b[0m \u001b[31m13.5 MB/s\u001b[0m eta \u001b[36m0:00:00\u001b[0m\n",
            "\u001b[2K     \u001b[90m━━━━━━━━━━━━━━━━━━━━━━━━━━━━━━━━━━━━━━━━\u001b[0m \u001b[32m60.6/60.6 kB\u001b[0m \u001b[31m6.4 MB/s\u001b[0m eta \u001b[36m0:00:00\u001b[0m\n",
            "\u001b[2K     \u001b[90m━━━━━━━━━━━━━━━━━━━━━━━━━━━━━━━━━━━━━━━━\u001b[0m \u001b[32m71.5/71.5 kB\u001b[0m \u001b[31m7.6 MB/s\u001b[0m eta \u001b[36m0:00:00\u001b[0m\n",
            "\u001b[2K     \u001b[90m━━━━━━━━━━━━━━━━━━━━━━━━━━━━━━━━━━━━━━━━\u001b[0m \u001b[32m1.7/1.7 MB\u001b[0m \u001b[31m30.4 MB/s\u001b[0m eta \u001b[36m0:00:00\u001b[0m\n",
            "\u001b[2K     \u001b[90m━━━━━━━━━━━━━━━━━━━━━━━━━━━━━━━━━━━━━━━━\u001b[0m \u001b[32m116.4/116.4 kB\u001b[0m \u001b[31m6.4 MB/s\u001b[0m eta \u001b[36m0:00:00\u001b[0m\n",
            "\u001b[2K     \u001b[90m━━━━━━━━━━━━━━━━━━━━━━━━━━━━━━━━━━━━━━━━\u001b[0m \u001b[32m69.6/69.6 kB\u001b[0m \u001b[31m8.2 MB/s\u001b[0m eta \u001b[36m0:00:00\u001b[0m\n",
            "\u001b[2K     \u001b[90m━━━━━━━━━━━━━━━━━━━━━━━━━━━━━━━━━━━━━━━━\u001b[0m \u001b[32m526.7/526.7 kB\u001b[0m \u001b[31m42.7 MB/s\u001b[0m eta \u001b[36m0:00:00\u001b[0m\n",
            "\u001b[2K     \u001b[90m━━━━━━━━━━━━━━━━━━━━━━━━━━━━━━━━━━━━━━━━\u001b[0m \u001b[32m58.3/58.3 kB\u001b[0m \u001b[31m5.1 MB/s\u001b[0m eta \u001b[36m0:00:00\u001b[0m\n",
            "\u001b[?25h  Building wheel for lark (setup.py) ... \u001b[?25l\u001b[?25hdone\n",
            "  Building wheel for rpcq (setup.py) ... \u001b[?25l\u001b[?25hdone\n",
            "\u001b[31mERROR: pip's dependency resolver does not currently take into account all the packages that are installed. This behaviour is the source of the following dependency conflicts.\n",
            "lida 0.0.10 requires fastapi, which is not installed.\n",
            "lida 0.0.10 requires kaleido, which is not installed.\n",
            "lida 0.0.10 requires python-multipart, which is not installed.\n",
            "lida 0.0.10 requires uvicorn, which is not installed.\n",
            "referencing 0.30.2 requires attrs>=22.2.0, but you have attrs 21.4.0 which is incompatible.\u001b[0m\u001b[31m\n",
            "\u001b[0minstalled cirq.\n"
          ]
        }
      ],
      "source": [
        "# @title Setting up\n",
        "\n",
        "try:\n",
        "    import cirq\n",
        "except ImportError:\n",
        "    print(\"installing cirq...\")\n",
        "    !pip install --quiet cirq --pre\n",
        "    print(\"installed cirq.\")\n",
        "    import cirq\n",
        "\n",
        "import matplotlib.pyplot as plt\n",
        "import numpy as np"
      ]
    },
    {
      "cell_type": "code",
      "source": [
        "\"\"\"Test successful installation by printing out the Sycamore device.\"\"\"\n",
        "import cirq_google\n",
        "\n",
        "print(cirq_google.Sycamore)"
      ],
      "metadata": {
        "colab": {
          "base_uri": "https://localhost:8080/"
        },
        "id": "NON3NgAWl-UV",
        "outputId": "dba021e2-de46-48d0-acc0-5e6592bf2589"
      },
      "execution_count": null,
      "outputs": [
        {
          "output_type": "stream",
          "name": "stdout",
          "text": [
            "                                             (0, 5)───(0, 6)\n",
            "                                             │        │\n",
            "                                             │        │\n",
            "                                    (1, 4)───(1, 5)───(1, 6)───(1, 7)\n",
            "                                    │        │        │        │\n",
            "                                    │        │        │        │\n",
            "                           (2, 3)───(2, 4)───(2, 5)───(2, 6)───(2, 7)───(2, 8)\n",
            "                           │        │        │        │        │        │\n",
            "                           │        │        │        │        │        │\n",
            "                  (3, 2)───(3, 3)───(3, 4)───(3, 5)───(3, 6)───(3, 7)───(3, 8)───(3, 9)\n",
            "                  │        │        │        │        │        │        │        │\n",
            "                  │        │        │        │        │        │        │        │\n",
            "         (4, 1)───(4, 2)───(4, 3)───(4, 4)───(4, 5)───(4, 6)───(4, 7)───(4, 8)───(4, 9)\n",
            "         │        │        │        │        │        │        │        │\n",
            "         │        │        │        │        │        │        │        │\n",
            "(5, 0)───(5, 1)───(5, 2)───(5, 3)───(5, 4)───(5, 5)───(5, 6)───(5, 7)───(5, 8)\n",
            "         │        │        │        │        │        │        │\n",
            "         │        │        │        │        │        │        │\n",
            "         (6, 1)───(6, 2)───(6, 3)───(6, 4)───(6, 5)───(6, 6)───(6, 7)\n",
            "                  │        │        │        │        │\n",
            "                  │        │        │        │        │\n",
            "                  (7, 2)───(7, 3)───(7, 4)───(7, 5)───(7, 6)\n",
            "                           │        │        │\n",
            "                           │        │        │\n",
            "                           (8, 3)───(8, 4)───(8, 5)\n",
            "                                    │\n",
            "                                    │\n",
            "                                    (9, 4)\n"
          ]
        }
      ]
    },
    {
      "cell_type": "code",
      "source": [
        "# @title Create a Circuit\n",
        "\n",
        "\"\"\"Creating a circuit.\"\"\"\n",
        "# Define three qubits.\n",
        "a = cirq.NamedQubit(\"a\")\n",
        "b = cirq.NamedQubit(\"b\")\n",
        "c = cirq.NamedQubit(\"c\")\n",
        "\n",
        "# Define a list of operations.\n",
        "ops = [cirq.H(a), cirq.H(b), cirq.CNOT(b, c), cirq.H(b)]\n",
        "\n",
        "# Create a circuit from the list of operations.\n",
        "circuit = cirq.Circuit(ops)\n",
        "print(\"Circuit:\\n\")\n",
        "print(circuit)"
      ],
      "metadata": {
        "colab": {
          "base_uri": "https://localhost:8080/"
        },
        "id": "0SgGodakl_0n",
        "outputId": "cdb26cc6-afc3-457b-bf50-a17a2d36737c"
      },
      "execution_count": null,
      "outputs": [
        {
          "output_type": "stream",
          "name": "stdout",
          "text": [
            "Circuit:\n",
            "\n",
            "a: ───H───────────\n",
            "\n",
            "b: ───H───@───H───\n",
            "          │\n",
            "c: ───────X───────\n"
          ]
        }
      ]
    },
    {
      "cell_type": "code",
      "source": [
        "# @title Exercise: Create a Circuit\n",
        "\n",
        "# Define 4 qubits.\n",
        "#q0, q1, q2, q3 = cirq.LineQubit.range(4)\n",
        "q = cirq.LineQubit.range(4)\n",
        "\n",
        "# Define a list of operations.\n",
        "#ops = [cirq.H(q0), cirq.H(q1), cirq.CNOT(q1, q2), cirq.CNOT(q0, q3), cirq.H(q1)]\n",
        "ops = [cirq.H(q[0]), cirq.H(q[1]), cirq.CNOT(q[1], q[2]), cirq.CNOT(q[0], q[3]), cirq.H(q[1])]\n",
        "\n",
        "# Create a circuit from the list of operations.\n",
        "circuit = cirq.Circuit(ops)\n",
        "print(\"Circuit:\\n\")\n",
        "print(circuit)"
      ],
      "metadata": {
        "colab": {
          "base_uri": "https://localhost:8080/"
        },
        "id": "LzMe7iwumCKH",
        "outputId": "eb09bed5-0956-4e6a-e936-a91f303e6f20"
      },
      "execution_count": null,
      "outputs": [
        {
          "output_type": "stream",
          "name": "stdout",
          "text": [
            "Circuit:\n",
            "\n",
            "          ┌──┐\n",
            "0: ───H─────@────────\n",
            "            │\n",
            "1: ───H────@┼────H───\n",
            "           ││\n",
            "2: ────────X┼────────\n",
            "            │\n",
            "3: ─────────X────────\n",
            "          └──┘\n"
          ]
        }
      ]
    },
    {
      "cell_type": "code",
      "source": [
        "\"\"\"Get the unitary of a gate, here the Hadamard gate.\"\"\"\n",
        "cirq.unitary(cirq.H)"
      ],
      "metadata": {
        "id": "zItd1v4Bm-VU",
        "colab": {
          "base_uri": "https://localhost:8080/"
        },
        "outputId": "5bd87620-d9f2-4adc-8d77-ac0feeaf26da"
      },
      "execution_count": null,
      "outputs": [
        {
          "output_type": "execute_result",
          "data": {
            "text/plain": [
              "array([[ 0.70710678+0.j,  0.70710678+0.j],\n",
              "       [ 0.70710678+0.j, -0.70710678+0.j]])"
            ]
          },
          "metadata": {},
          "execution_count": 5
        }
      ]
    },
    {
      "cell_type": "code",
      "source": [
        "\"\"\"Print out the moments in a circuit.\"\"\"\n",
        "print(\"Circuit:\\n\")\n",
        "print(circuit)\n",
        "\n",
        "# Inspecting individual moments.\n",
        "print(\"\\nMoments in the circuit:\\n\")\n",
        "for i, moment in enumerate(circuit):\n",
        "    print(f'Moment {i}: \\n{moment}')"
      ],
      "metadata": {
        "colab": {
          "base_uri": "https://localhost:8080/"
        },
        "id": "o3o3TMK8M_4e",
        "outputId": "5d9a94af-7901-4506-853a-142eba777738"
      },
      "execution_count": null,
      "outputs": [
        {
          "output_type": "stream",
          "name": "stdout",
          "text": [
            "Circuit:\n",
            "\n",
            "          ┌──┐\n",
            "0: ───H─────@────────\n",
            "            │\n",
            "1: ───H────@┼────H───\n",
            "           ││\n",
            "2: ────────X┼────────\n",
            "            │\n",
            "3: ─────────X────────\n",
            "          └──┘\n",
            "\n",
            "Moments in the circuit:\n",
            "\n",
            "Moment 0: \n",
            "  ╷ 0 1\n",
            "╶─┼─────\n",
            "0 │ H H\n",
            "  │\n",
            "Moment 1: \n",
            "  ╷ 0 1 2 3\n",
            "╶─┼─────────\n",
            "0 │ @─@─X─X\n",
            "  │\n",
            "Moment 2: \n",
            "  ╷ 1\n",
            "╶─┼───\n",
            "0 │ H\n",
            "  │\n"
          ]
        }
      ]
    },
    {
      "cell_type": "code",
      "source": [
        "\"\"\"Print the repr of a circuit.\"\"\"\n",
        "print(repr(circuit))"
      ],
      "metadata": {
        "colab": {
          "base_uri": "https://localhost:8080/"
        },
        "id": "_NGfazmCNWAO",
        "outputId": "90345522-8b69-4c25-d093-09794a319bef"
      },
      "execution_count": null,
      "outputs": [
        {
          "output_type": "stream",
          "name": "stdout",
          "text": [
            "cirq.Circuit([\n",
            "    cirq.Moment(\n",
            "        cirq.H(cirq.LineQubit(0)),\n",
            "        cirq.H(cirq.LineQubit(1)),\n",
            "    ),\n",
            "    cirq.Moment(\n",
            "        cirq.CNOT(cirq.LineQubit(1), cirq.LineQubit(2)),\n",
            "        cirq.CNOT(cirq.LineQubit(0), cirq.LineQubit(3)),\n",
            "    ),\n",
            "    cirq.Moment(\n",
            "        cirq.H(cirq.LineQubit(1)),\n",
            "    ),\n",
            "])\n"
          ]
        }
      ]
    },
    {
      "cell_type": "code",
      "source": [
        "# @title More ways to create Circuits\n",
        "\n",
        "\"\"\"Creating a circuit from generator functions.\"\"\"\n",
        "\n",
        "def xor_swap(a, b):\n",
        "    \"\"\"Swaps two qubits with three CNOTs.\"\"\"\n",
        "    yield cirq.CNOT(a, b)  # |a> |b> --> |a> |a ^ b>\n",
        "    yield cirq.CNOT(b, a)  # |a> |a ^ b> --> |a ^ a ^ b> | a ^ b> = |b>|a^b>\n",
        "    yield cirq.CNOT(a, b)  # |b> |a ^ b> --> |b>|a ^ b ^ b> = |b> |a>\n",
        "\n",
        "cirq.Circuit(xor_swap(a, b))"
      ],
      "metadata": {
        "colab": {
          "base_uri": "https://localhost:8080/",
          "height": 69
        },
        "id": "pe2U0DZVNgSl",
        "outputId": "8439b86b-975a-4ad5-d45e-8adfa39ebe9a"
      },
      "execution_count": null,
      "outputs": [
        {
          "output_type": "execute_result",
          "data": {
            "text/plain": [
              "a: ───@───X───@───\n",
              "      │   │   │\n",
              "b: ───X───@───X───"
            ],
            "text/html": [
              "<pre style=\"overflow: auto; white-space: pre;\">a: ───@───X───@───\n",
              "      │   │   │\n",
              "b: ───X───@───X───</pre>"
            ]
          },
          "metadata": {},
          "execution_count": 8
        }
      ]
    },
    {
      "cell_type": "code",
      "source": [
        "# @title Exercise: Create a circuit to left rotate 5 qubits\n",
        "\n",
        "q = cirq.LineQubit.range(5)\n",
        "#q\n",
        "\n",
        "def left_rotate_qubits(qs):\n",
        "  # https://www.geeksforgeeks.org/python-ways-to-rotate-a-list/\n",
        "  rqs = qs[1:] + qs[:1]\n",
        "  for qa, qb in zip(qs, rqs):\n",
        "    #print(qa, \"=>\", qb)\n",
        "    yield cirq.CNOT(qa, qb)\n",
        "\n",
        "cirq.Circuit(left_rotate_qubits(q))"
      ],
      "metadata": {
        "colab": {
          "base_uri": "https://localhost:8080/",
          "height": 173
        },
        "id": "wHhYqjGnN8QG",
        "outputId": "ea6a1121-c291-45a2-e710-c26731faf268"
      },
      "execution_count": null,
      "outputs": [
        {
          "output_type": "execute_result",
          "data": {
            "text/plain": [
              "0: ───@───────────────X───\n",
              "      │               │\n",
              "1: ───X───@───────────┼───\n",
              "          │           │\n",
              "2: ───────X───@───────┼───\n",
              "              │       │\n",
              "3: ───────────X───@───┼───\n",
              "                  │   │\n",
              "4: ───────────────X───@───"
            ],
            "text/html": [
              "<pre style=\"overflow: auto; white-space: pre;\">0: ───@───────────────X───\n",
              "      │               │\n",
              "1: ───X───@───────────┼───\n",
              "          │           │\n",
              "2: ───────X───@───────┼───\n",
              "              │       │\n",
              "3: ───────────X───@───┼───\n",
              "                  │   │\n",
              "4: ───────────────X───@───</pre>"
            ]
          },
          "metadata": {},
          "execution_count": 9
        }
      ]
    },
    {
      "cell_type": "code",
      "source": [
        "# solution\n",
        "\n",
        "def left_rotate(qubits):\n",
        "    \"\"\"Rotates qubits to the left.\"\"\"\n",
        "    for i in range(len(qubits) - 1):\n",
        "        a, b = qubits[i : i + 2]\n",
        "        yield xor_swap(a, b)\n",
        "\n",
        "\n",
        "# Get five qubits on a line.\n",
        "line = cirq.LineQubit.range(5)\n",
        "\n",
        "# Create a circuit which rotates the qubits to the left.\n",
        "# uncomment the next line to compare with your circuit\n",
        "circuit = cirq.Circuit(left_rotate(line))\n",
        "print(circuit)"
      ],
      "metadata": {
        "colab": {
          "base_uri": "https://localhost:8080/"
        },
        "id": "EaZgmwisWig_",
        "outputId": "e59aae06-71ea-46da-e23a-439817cdef4c"
      },
      "execution_count": null,
      "outputs": [
        {
          "output_type": "stream",
          "name": "stdout",
          "text": [
            "0: ───@───X───@───────────────────────────────────────\n",
            "      │   │   │\n",
            "1: ───X───@───X───@───X───@───────────────────────────\n",
            "                  │   │   │\n",
            "2: ───────────────X───@───X───@───X───@───────────────\n",
            "                              │   │   │\n",
            "3: ───────────────────────────X───@───X───@───X───@───\n",
            "                                          │   │   │\n",
            "4: ───────────────────────────────────────X───@───X───\n"
          ]
        }
      ]
    },
    {
      "cell_type": "code",
      "source": [
        "print(circuit_to_quirk_url(circuit))"
      ],
      "metadata": {
        "colab": {
          "base_uri": "https://localhost:8080/"
        },
        "id": "W-YO1II5Nhll",
        "outputId": "20ae594e-d94b-43b4-8226-e5e6d801b093"
      },
      "execution_count": null,
      "outputs": [
        {
          "output_type": "stream",
          "name": "stdout",
          "text": [
            "http://algassert.com/quirk#circuit=%7B%22cols%22%3A%5B%5B%22%E2%80%A2%22%2C%22X%22%5D%2C%5B%22X%22%2C%22%E2%80%A2%22%5D%2C%5B%22%E2%80%A2%22%2C%22X%22%5D%2C%5B1%2C%22%E2%80%A2%22%2C%22X%22%5D%2C%5B1%2C%22X%22%2C%22%E2%80%A2%22%5D%2C%5B1%2C%22%E2%80%A2%22%2C%22X%22%5D%2C%5B1%2C1%2C%22%E2%80%A2%22%2C%22X%22%5D%2C%5B1%2C1%2C%22X%22%2C%22%E2%80%A2%22%5D%2C%5B1%2C1%2C%22%E2%80%A2%22%2C%22X%22%5D%2C%5B1%2C1%2C1%2C%22%E2%80%A2%22%2C%22X%22%5D%2C%5B1%2C1%2C1%2C%22X%22%2C%22%E2%80%A2%22%5D%2C%5B1%2C1%2C1%2C%22%E2%80%A2%22%2C%22X%22%5D%5D%7D\n"
          ]
        }
      ]
    },
    {
      "cell_type": "code",
      "source": [
        "# @title Insert strategies\n",
        "\n",
        "\"\"\"Appending operations with InsertStrategy.EARLIEST.\"\"\"\n",
        "# Create an empty circuit.\n",
        "circuit = cirq.Circuit()\n",
        "\n",
        "# Append an operation.\n",
        "# Note: InsertStrategy.EARLIEST is used by default if not otherwise specified.\n",
        "circuit.append([cirq.CZ(a, b)])\n",
        "\n",
        "# Append more operations.\n",
        "# Note: InsertStrategy.EARLIEST is used by default if not otherwise specified.\n",
        "circuit.append([cirq.H(a), cirq.H(b), cirq.H(c)])\n",
        "\n",
        "# Display the circuit.\n",
        "print(\"Circuit:\\n\")\n",
        "print(circuit)"
      ],
      "metadata": {
        "colab": {
          "base_uri": "https://localhost:8080/"
        },
        "id": "8gyt4BKHWnm2",
        "outputId": "80892a24-05e0-48c2-bd56-d836bf181dfc"
      },
      "execution_count": null,
      "outputs": [
        {
          "output_type": "stream",
          "name": "stdout",
          "text": [
            "Circuit:\n",
            "\n",
            "a: ───@───H───\n",
            "      │\n",
            "b: ───@───H───\n",
            "\n",
            "c: ───H───────\n"
          ]
        }
      ]
    },
    {
      "cell_type": "code",
      "source": [
        "\"\"\"Appending operations with InsertStrategy.NEW_THEN_INLINE.\"\"\"\n",
        "# Create an empty circuit.\n",
        "circuit = cirq.Circuit()\n",
        "\n",
        "# Append an operation.\n",
        "circuit.append([cirq.CZ(a, b)], strategy=cirq.InsertStrategy.NEW_THEN_INLINE)\n",
        "\n",
        "# Append more operations.\n",
        "circuit.append([cirq.H(a), cirq.H(b), cirq.H(c)], strategy=cirq.InsertStrategy.NEW_THEN_INLINE)\n",
        "\n",
        "# Display the circuit.\n",
        "print(\"Circuit:\\n\")\n",
        "print(circuit)"
      ],
      "metadata": {
        "colab": {
          "base_uri": "https://localhost:8080/"
        },
        "id": "JNuR28P9XOm-",
        "outputId": "0bd17f0a-593a-4fa4-ac92-aa5cf467e2bb"
      },
      "execution_count": null,
      "outputs": [
        {
          "output_type": "stream",
          "name": "stdout",
          "text": [
            "Circuit:\n",
            "\n",
            "a: ───@───H───\n",
            "      │\n",
            "b: ───@───H───\n",
            "\n",
            "c: ───────H───\n"
          ]
        }
      ]
    },
    {
      "cell_type": "code",
      "source": [
        "# @title Exercise: Create the given circuit using least number of appends\n",
        "\n",
        "# Create an empty circuit.\n",
        "circuit = cirq.Circuit()\n",
        "\n",
        "# Append an operation.\n",
        "circuit.append([cirq.CZ(a, b), cirq.H(c)], strategy=cirq.InsertStrategy.EARLIEST)\n",
        "\n",
        "circuit.append([cirq.H(a), cirq.H(b), cirq.CZ(b, c)], strategy=cirq.InsertStrategy.NEW)\n",
        "circuit.append([cirq.H(a), cirq.H(b)], strategy=cirq.InsertStrategy.NEW_THEN_INLINE)\n",
        "circuit.append([cirq.H(a)], strategy=cirq.InsertStrategy.NEW)\n",
        "\n",
        "# Display the circuit.\n",
        "print(\"Circuit:\\n\")\n",
        "print(circuit)"
      ],
      "metadata": {
        "colab": {
          "base_uri": "https://localhost:8080/"
        },
        "id": "5OoL7dgOXWvm",
        "outputId": "e02e5a41-0a95-414a-e445-686b7721b1cd"
      },
      "execution_count": null,
      "outputs": [
        {
          "output_type": "stream",
          "name": "stdout",
          "text": [
            "Circuit:\n",
            "\n",
            "a: ───@───H───────────H───H───\n",
            "      │\n",
            "b: ───@───────H───@───H───────\n",
            "                  │\n",
            "c: ───H───────────@───────────\n"
          ]
        }
      ]
    },
    {
      "cell_type": "code",
      "source": [
        "# solution\n",
        "\n",
        "# Define three qubits.\n",
        "a = cirq.NamedQubit('a')\n",
        "b = cirq.NamedQubit('b')\n",
        "c = cirq.NamedQubit('c')\n",
        "\n",
        "# Get an empty circuit.\n",
        "circuit = cirq.Circuit()\n",
        "\n",
        "# Append these gates using cirq.InsertStrategy.EARLIEST (the default strategy).\n",
        "circuit.append([cirq.CZ(a, b), cirq.H(c), cirq.H(a)])\n",
        "\n",
        "# Append these gates using cirq.InsertStrategy.NEW_THEN_INLINE.\n",
        "circuit.append(\n",
        "    [cirq.H(b), cirq.CZ(b, c), cirq.H(b), cirq.H(a), cirq.H(a)],\n",
        "    strategy=cirq.InsertStrategy.NEW_THEN_INLINE,\n",
        ")\n",
        "\n",
        "# Display the circuit.\n",
        "print(\"Circuit:\\n\")\n",
        "print(circuit)\n"
      ],
      "metadata": {
        "colab": {
          "base_uri": "https://localhost:8080/"
        },
        "id": "tHtbVxxSX4Kv",
        "outputId": "c10f6074-877d-48d3-fe1a-aa4cffca3d94"
      },
      "execution_count": null,
      "outputs": [
        {
          "output_type": "stream",
          "name": "stdout",
          "text": [
            "Circuit:\n",
            "\n",
            "a: ───@───H───────────H───H───\n",
            "      │\n",
            "b: ───@───────H───@───H───────\n",
            "                  │\n",
            "c: ───H───────────@───────────\n"
          ]
        }
      ]
    },
    {
      "cell_type": "code",
      "source": [
        "# @title Simulations of a Circuit\n",
        "\n",
        "\"\"\"Get a circuit to simulate.\"\"\"\n",
        "\n",
        "def basic_circuit(measure=True):\n",
        "    \"\"\"Returns a simple circuit with some one- and two-qubit gates,\n",
        "    as well as (optionally) measurements.\n",
        "    \"\"\"\n",
        "    # Gates we will use in the circuit.\n",
        "    sqrt_x = cirq.X**0.5\n",
        "    cz = cirq.CZ\n",
        "\n",
        "    # Yield the operations.\n",
        "    yield sqrt_x(a), sqrt_x(b)\n",
        "    yield cz(a, b)\n",
        "    yield sqrt_x(a), sqrt_x(b)\n",
        "    if measure:\n",
        "        yield cirq.measure(a, b)\n",
        "\n",
        "# Create a circuit including measurements.\n",
        "circuit = cirq.Circuit(basic_circuit())\n",
        "print(circuit)"
      ],
      "metadata": {
        "colab": {
          "base_uri": "https://localhost:8080/"
        },
        "id": "znymTOQnaAdA",
        "outputId": "98445a56-23a8-43b4-927d-f41244bfb03a"
      },
      "execution_count": null,
      "outputs": [
        {
          "output_type": "stream",
          "name": "stdout",
          "text": [
            "a: ───X^0.5───@───X^0.5───M───\n",
            "              │           │\n",
            "b: ───X^0.5───@───X^0.5───M───\n"
          ]
        }
      ]
    },
    {
      "cell_type": "code",
      "source": [
        "\"\"\"Example of simulating a circuit in Cirq.\"\"\"\n",
        "# Get a simulator.\n",
        "simulator = cirq.Simulator()\n",
        "\n",
        "# Pass the circuit to the simulator.run method.\n",
        "result = simulator.run(circuit, repetitions=1)\n",
        "print(\"Measurement results:\")\n",
        "print(result)"
      ],
      "metadata": {
        "colab": {
          "base_uri": "https://localhost:8080/"
        },
        "id": "oJuPAzuVbEhX",
        "outputId": "bc070027-059d-43ef-e5c9-518c8bbbe6a2"
      },
      "execution_count": null,
      "outputs": [
        {
          "output_type": "stream",
          "name": "stdout",
          "text": [
            "Measurement results:\n",
            "a,b=0, 0\n"
          ]
        }
      ]
    },
    {
      "cell_type": "code",
      "source": [
        "\"\"\"Simulating a circuit with the `simulate` method.\"\"\"\n",
        "# Get a circuit without measurements.\n",
        "circuit = cirq.Circuit(basic_circuit(measure=False))\n",
        "\n",
        "# Simulate the circuit.\n",
        "result = simulator.simulate(circuit, qubit_order=[a, b])\n",
        "\n",
        "# Print the final state vector (wavefunction).\n",
        "print(\"State vector:\")\n",
        "print(np.around(result.final_state_vector, 3))\n",
        "\n",
        "# Print the state vector in Dirac notation.\n",
        "print(\"\\nDirac notation:\")\n",
        "print(result.dirac_notation())"
      ],
      "metadata": {
        "colab": {
          "base_uri": "https://localhost:8080/"
        },
        "id": "EQkPsRj_blfG",
        "outputId": "5e8fb71c-c97d-49b1-d78a-ee5fd18a8215"
      },
      "execution_count": null,
      "outputs": [
        {
          "output_type": "stream",
          "name": "stdout",
          "text": [
            "State vector:\n",
            "[0.5+0.j  0. +0.5j 0. +0.5j 0.5+0.j ]\n",
            "\n",
            "Dirac notation:\n",
            "0.5|00⟩ + 0.5j|01⟩ + 0.5j|10⟩ + 0.5|11⟩\n"
          ]
        }
      ]
    },
    {
      "cell_type": "code",
      "source": [
        "# @title Repetitions and histograms\n",
        "\n",
        "\"\"\"Simulate a circuit using 1000 repetitions.\"\"\"\n",
        "# Get a circuit with terminal measurements to simulate.\n",
        "circuit = cirq.Circuit(basic_circuit())\n",
        "\n",
        "# Sample from the circuit 1000 times.\n",
        "result = simulator.run(circuit, repetitions=1000)\n",
        "\n",
        "# Get a histogram of measurement results.\n",
        "print(result.histogram(key=\"a,b\"))\n",
        "\n",
        "# Plot a state histogram of the result.\n",
        "cirq.plot_state_histogram(result);"
      ],
      "metadata": {
        "colab": {
          "base_uri": "https://localhost:8080/",
          "height": 489
        },
        "id": "t_qGZiHObzAW",
        "outputId": "94370d5e-8a32-444a-8db0-df211fe8c68b"
      },
      "execution_count": null,
      "outputs": [
        {
          "output_type": "stream",
          "name": "stdout",
          "text": [
            "Counter({1: 269, 3: 248, 2: 247, 0: 236})\n"
          ]
        },
        {
          "output_type": "display_data",
          "data": {
            "text/plain": [
              "<Figure size 640x480 with 1 Axes>"
            ],
            "image/png": "[encoded data removed]"
          },
          "metadata": {}
        }
      ]
    },
    {
      "cell_type": "code",
      "source": [
        "#result"
      ],
      "metadata": {
        "id": "D0CQt5Atcs_K"
      },
      "execution_count": null,
      "outputs": []
    },
    {
      "cell_type": "code",
      "source": [
        "print(\n",
        "    result.histogram(\n",
        "        key=\"a,b\", fold_func=lambda bits: \"agree\" if bits[0] == bits[1] else \"disagree\"\n",
        "    )\n",
        ")"
      ],
      "metadata": {
        "colab": {
          "base_uri": "https://localhost:8080/"
        },
        "id": "hvtwYtJUcc6m",
        "outputId": "a1a13bb4-9ab6-4f62-9a60-f2fcdc515978"
      },
      "execution_count": null,
      "outputs": [
        {
          "output_type": "stream",
          "name": "stdout",
          "text": [
            "Counter({'disagree': 516, 'agree': 484})\n"
          ]
        }
      ]
    },
    {
      "cell_type": "code",
      "source": [
        "# @title The Deutsch-Jozsa Algorithm\n",
        "\n",
        "\"\"\"Store the operations to query each function in a dictionary.\"\"\"\n",
        "# Get qubits for the operations to act on.\n",
        "q0, q1 = cirq.LineQubit.range(2)\n",
        "\n",
        "# Define the dictionary of operations. The key of each dictionary entry\n",
        "# is the subscript of the function f in the above explanatory text.\n",
        "oracles = {\n",
        "    '0': [],\n",
        "    '1': [cirq.X(q1)],\n",
        "    'x': [cirq.CNOT(q0, q1)],\n",
        "    'notx': [cirq.CNOT(q0, q1), cirq.X(q1)],\n",
        "}"
      ],
      "metadata": {
        "id": "FZXRq7cNcm6_"
      },
      "execution_count": null,
      "outputs": []
    },
    {
      "cell_type": "code",
      "source": [
        "\"\"\"Creating the circuit used in Deutsch's algorithm.\"\"\"\n",
        "\n",
        "def deutsch_algorithm(oracle):\n",
        "    \"\"\"Returns the circuit for Deutsch's algorithm given an input\n",
        "    oracle, i.e., a sequence of operations to query a particular function.\n",
        "    \"\"\"\n",
        "    yield cirq.X(q1)\n",
        "    yield cirq.H(q0), cirq.H(q1)\n",
        "    yield oracle\n",
        "    yield cirq.H(q0)\n",
        "    yield cirq.measure(q0)\n",
        "\n",
        "for key, oracle in oracles.items():\n",
        "    print(f\"Circuit for f_{key}:\")\n",
        "    circuit = cirq.Circuit(deutsch_algorithm(oracle))\n",
        "    print(circuit, end=\"\\n\\n\")\n",
        "    #print(circuit_to_quirk_url(circuit), end=\"\\n\\n\")"
      ],
      "metadata": {
        "colab": {
          "base_uri": "https://localhost:8080/"
        },
        "id": "PCym4GHZffm0",
        "outputId": "30c6e135-81d5-48b1-c808-2af82bf0d753"
      },
      "execution_count": null,
      "outputs": [
        {
          "output_type": "stream",
          "name": "stdout",
          "text": [
            "Circuit for f_0:\n",
            "0: ───H───H───M───\n",
            "\n",
            "1: ───X───H───────\n",
            "\n",
            "Circuit for f_1:\n",
            "0: ───H───H───M───\n",
            "\n",
            "1: ───X───H───X───\n",
            "\n",
            "Circuit for f_x:\n",
            "0: ───H───────@───H───M───\n",
            "              │\n",
            "1: ───X───H───X───────────\n",
            "\n",
            "Circuit for f_notx:\n",
            "0: ───H───────@───H───M───\n",
            "              │\n",
            "1: ───X───H───X───X───────\n",
            "\n"
          ]
        }
      ]
    },
    {
      "cell_type": "code",
      "source": [
        "\"\"\"Simulate each of the circuits.\"\"\"\n",
        "simulator = cirq.Simulator()\n",
        "for key, oracle in oracles.items():\n",
        "    result = simulator.run(cirq.Circuit(deutsch_algorithm(oracle)), repetitions=100)\n",
        "    print(f'oracle: f_{key:<4} results: {result}')"
      ],
      "metadata": {
        "colab": {
          "base_uri": "https://localhost:8080/"
        },
        "id": "W3it7vNafnd-",
        "outputId": "6ed271a3-a642-45a6-fc86-ab911503c18a"
      },
      "execution_count": null,
      "outputs": [
        {
          "output_type": "stream",
          "name": "stdout",
          "text": [
            "oracle: f_0    results: q(0)=0000000000000000000000000000000000000000000000000000000000000000000000000000000000000000000000000000\n",
            "oracle: f_1    results: q(0)=0000000000000000000000000000000000000000000000000000000000000000000000000000000000000000000000000000\n",
            "oracle: f_x    results: q(0)=1111111111111111111111111111111111111111111111111111111111111111111111111111111111111111111111111111\n",
            "oracle: f_notx results: q(0)=1111111111111111111111111111111111111111111111111111111111111111111111111111111111111111111111111111\n"
          ]
        }
      ]
    },
    {
      "cell_type": "markdown",
      "source": [
        "- For the first two functions, we always measure 0. Therefore, we know that these functions are **constant**.\n",
        "- For the second two functions, we always measure 1. Therefore, we know that these functions are **balanced**."
      ],
      "metadata": {
        "id": "WuPDBTYEgBZ8"
      }
    },
    {
      "cell_type": "code",
      "source": [
        "# @title Exercise: Two Bit Deutsch-Jozsa Algorithm\n",
        "\n",
        "\"\"\"Operations to query all possible functions on two bits.\n",
        "Two of these functions are constant, and six of these functions are balanced.\n",
        "\"\"\"\n",
        "# Define three qubits to use.\n",
        "q0, q1, q2 = cirq.LineQubit.range(3)\n",
        "\n",
        "# Define the operations to query each of the two constant functions.\n",
        "constant = ([], [cirq.X(q2)])\n",
        "\n",
        "# Define the operations to query each of the six balanced functions.\n",
        "balanced = (\n",
        "    [cirq.CNOT(q0, q2)],\n",
        "    [cirq.CNOT(q1, q2)],\n",
        "    [cirq.CNOT(q0, q2), cirq.CNOT(q1, q2)],\n",
        "    [cirq.CNOT(q0, q2), cirq.X(q2)],\n",
        "    [cirq.CNOT(q1, q2), cirq.X(q2)],\n",
        "    [cirq.CNOT(q0, q2), cirq.CNOT(q1, q2), cirq.X(q2)],\n",
        ")"
      ],
      "metadata": {
        "id": "ANaht_7sfxSu"
      },
      "execution_count": null,
      "outputs": []
    },
    {
      "cell_type": "code",
      "source": [
        "# Attempt the solution here\n",
        "\"\"\"Exercise: Write a quantum circuit that can distinguish\n",
        "constant from balanced functions on two bits.\n",
        "\"\"\"\n",
        "\n",
        "def your_circuit(oracle):\n",
        "    # Your code here!\n",
        "    yield oracle\n",
        "    # Your code here!\n",
        "    yield cirq.measure(q2)"
      ],
      "metadata": {
        "id": "KjSSN4sxgVC-"
      },
      "execution_count": null,
      "outputs": []
    },
    {
      "cell_type": "code",
      "source": [
        "\"\"\"Check your answer by running this cell.\"\"\"\n",
        "simulator = cirq.Simulator()\n",
        "\n",
        "print(\"\\nYour result on constant functions:\")\n",
        "for oracle in constant:\n",
        "    result = simulator.run(cirq.Circuit(your_circuit(oracle)), repetitions=10)\n",
        "    print(result)\n",
        "\n",
        "print(\"\\nYour result on balanced functions:\")\n",
        "for oracle in balanced:\n",
        "    result = simulator.run(cirq.Circuit(your_circuit(oracle)), repetitions=10)\n",
        "    print(result)"
      ],
      "metadata": {
        "colab": {
          "base_uri": "https://localhost:8080/"
        },
        "id": "PnXgUeCBgmgm",
        "outputId": "2955f0fe-46eb-48f8-c756-c25b96076741"
      },
      "execution_count": null,
      "outputs": [
        {
          "output_type": "stream",
          "name": "stdout",
          "text": [
            "\n",
            "Your result on constant functions:\n",
            "q(2)=0000000000\n",
            "q(2)=1111111111\n",
            "\n",
            "Your result on balanced functions:\n",
            "q(2)=0000000000\n",
            "q(2)=0000000000\n",
            "q(2)=0000000000\n",
            "q(2)=1111111111\n",
            "q(2)=1111111111\n",
            "q(2)=1111111111\n"
          ]
        }
      ]
    },
    {
      "cell_type": "code",
      "source": [
        "# solution\n",
        "def dj_circuit(oracle):\n",
        "    # Phase kickback trick.\n",
        "    yield cirq.X(q2), cirq.H(q2)\n",
        "\n",
        "    # Get an equal superposition over input bits.\n",
        "    yield cirq.H(q0), cirq.H(q1)\n",
        "\n",
        "    # Query the function.\n",
        "    yield oracle\n",
        "\n",
        "    # Use interference to get result, put last qubit into |1>.\n",
        "    yield cirq.H(q0), cirq.H(q1), cirq.H(q2)\n",
        "\n",
        "    # Use a final OR gate to put result in final qubit.\n",
        "    yield cirq.X(q0), cirq.X(q1), cirq.CCX(q0, q1, q2)\n",
        "    yield cirq.measure(q2)"
      ],
      "metadata": {
        "id": "zfHPA1zsg3Cv"
      },
      "execution_count": null,
      "outputs": []
    },
    {
      "cell_type": "code",
      "source": [
        "\"\"\"Simulate the Deutsch-Jozsa circuit and check the results.\"\"\"\n",
        "print(\"Result on constant functions:\")\n",
        "for oracle in constant:\n",
        "    result = simulator.run(cirq.Circuit(dj_circuit(oracle)), repetitions=10)\n",
        "    print(result)\n",
        "\n",
        "print(\"\\nResult on balanced functions:\")\n",
        "for oracle in balanced:\n",
        "    result = simulator.run(cirq.Circuit(dj_circuit(oracle)), repetitions=10)\n",
        "    print(result)"
      ],
      "metadata": {
        "colab": {
          "base_uri": "https://localhost:8080/"
        },
        "id": "CzHxDslOgpFW",
        "outputId": "5523d150-e7d2-45e6-8821-8af9f4901ace"
      },
      "execution_count": null,
      "outputs": [
        {
          "output_type": "stream",
          "name": "stdout",
          "text": [
            "Result on constant functions:\n",
            "q(2)=0000000000\n",
            "q(2)=0000000000\n",
            "\n",
            "Result on balanced functions:\n",
            "q(2)=1111111111\n",
            "q(2)=1111111111\n",
            "q(2)=1111111111\n",
            "q(2)=1111111111\n",
            "q(2)=1111111111\n",
            "q(2)=1111111111\n"
          ]
        }
      ]
    },
    {
      "cell_type": "markdown",
      "source": [
        "As with the single-bit case (Deutsch's algorithm), we always measure **0 for constant** functions and always measure **1 for balanced** functions."
      ],
      "metadata": {
        "id": "AObkPCwmhTg6"
      }
    },
    {
      "cell_type": "code",
      "source": [
        "# @title Gates\n",
        "\n",
        "\"\"\"Examples of common gates defined in Cirq.\"\"\"\n",
        "# Get some qubits.\n",
        "q0, q1, q2 = cirq.LineQubit.range(3)\n",
        "\n",
        "# Get a bunch of common gates defined in Cirq.\n",
        "ops = [\n",
        "    cirq.X(q0),  # Pauli-X.\n",
        "    cirq.Y(q1),  # Pauli-Y.\n",
        "    cirq.Z(q2),  # Pauli-Z.\n",
        "    cirq.CZ(q0, q1),  # Controlled-Z gate.\n",
        "    cirq.CNOT(q1, q2),  # Controlled-X gate.\n",
        "    cirq.H(q0),  # Hadamard gate.\n",
        "    cirq.T(q1),  # T gate.\n",
        "    cirq.S(q2),  # S gate.\n",
        "    cirq.CCZ(q0, q1, q2),  # Controlled CZ gate.\n",
        "    cirq.SWAP(q0, q1),  # Swap gate.\n",
        "    cirq.CSWAP(q0, q1, q2),  # Controlled swap gate.\n",
        "    cirq.CCX(q0, q1, q2),  # Toffoli (CCNOT) gate.\n",
        "    cirq.ISWAP(q0, q1),  # ISWAP gate.\n",
        "    cirq.Rx(rads=0.5 * np.pi)(q0),  # Rotation about X.\n",
        "    cirq.Ry(rads=0.5 * np.pi)(q1),  # Rotation about Y.\n",
        "    cirq.Rz(rads=0.5 * np.pi)(q2),  # Rotation about Z.\n",
        "    cirq.X(q0) ** 0.5,  # Sqrt of NOT gate.\n",
        "]\n",
        "\n",
        "# Display a circuit with all of these operations.\n",
        "circuit = cirq.Circuit(ops)\n",
        "print(circuit)\n",
        "#print(circuit_to_quirk_url(circuit), end=\"\\n\\n\")"
      ],
      "metadata": {
        "colab": {
          "base_uri": "https://localhost:8080/"
        },
        "id": "EyINGyfYhBJH",
        "outputId": "e14c8e0c-7c74-4cc7-f668-14e29fc9adbc"
      },
      "execution_count": null,
      "outputs": [
        {
          "output_type": "stream",
          "name": "stdout",
          "text": [
            "0: ───X───@───H───────@───×───@───@───iSwap──────Rx(0.5π)───X^0.5───\n",
            "          │           │   │   │   │   │\n",
            "1: ───Y───@───@───T───@───×───×───@───iSwap──────Ry(0.5π)───────────\n",
            "              │       │       │   │\n",
            "2: ───Z───────X───S───@───────×───X───Rz(0.5π)──────────────────────\n"
          ]
        }
      ]
    },
    {
      "cell_type": "code",
      "source": [
        "\"\"\"Get the unitary of CNOT.\"\"\"\n",
        "print(cirq.unitary(cirq.CNOT))"
      ],
      "metadata": {
        "colab": {
          "base_uri": "https://localhost:8080/"
        },
        "id": "DrTdogzxhe8O",
        "outputId": "568dd0e6-f9b6-40dc-e113-a98810bec474"
      },
      "execution_count": null,
      "outputs": [
        {
          "output_type": "stream",
          "name": "stdout",
          "text": [
            "[[1.+0.j 0.+0.j 0.+0.j 0.+0.j]\n",
            " [0.+0.j 1.+0.j 0.+0.j 0.+0.j]\n",
            " [0.+0.j 0.+0.j 0.+0.j 1.+0.j]\n",
            " [0.+0.j 0.+0.j 1.+0.j 0.+0.j]]\n"
          ]
        }
      ]
    },
    {
      "cell_type": "code",
      "source": [
        "\"\"\"Plot the probability of measuring a qubit in the ground state.\"\"\"\n",
        "# Get a qubit.\n",
        "a = cirq.NamedQubit('a')\n",
        "\n",
        "# Get a circuit of a bunch of X rotations.\n",
        "num_angles = 200\n",
        "circuit = cirq.Circuit([cirq.Rx(rads=np.pi / 50.0)(a) for theta in range(num_angles)])\n",
        "\n",
        "# List to store probabilities of the ground state.\n",
        "probs = []\n",
        "\n",
        "# Step through the simulation results.\n",
        "for step in simulator.simulate_moment_steps(circuit):\n",
        "    prob = np.abs(step.state_vector(copy=True)) ** 2\n",
        "    probs.append(prob[0])\n",
        "\n",
        "# Plot the probability of the ground state at each simulation step.\n",
        "plt.style.use('seaborn-v0_8-whitegrid')\n",
        "plt.plot(probs, 'o')\n",
        "plt.xlabel(\"Step\")\n",
        "plt.ylabel(\"Probability of ground state\");"
      ],
      "metadata": {
        "colab": {
          "base_uri": "https://localhost:8080/",
          "height": 445
        },
        "id": "2N56M5m2h4FN",
        "outputId": "191daafb-22c1-43ac-a4a4-26d5de0f9249"
      },
      "execution_count": null,
      "outputs": [
        {
          "output_type": "display_data",
          "data": {
            "text/plain": [
              "<Figure size 640x480 with 1 Axes>"
            ],
            "image/png": "[encoded data removed]"
          },
          "metadata": {}
        }
      ]
    },
    {
      "cell_type": "code",
      "source": [
        "\"\"\"Plot the probability of measuring a qubit in the ground state by sampling.\"\"\"\n",
        "# Number of times to sample.\n",
        "repetitions = 100\n",
        "\n",
        "# List to store the probability of the ground state.\n",
        "sampled_probs = []\n",
        "\n",
        "for i, step in enumerate(simulator.simulate_moment_steps(circuit)):\n",
        "    samples = step.sample([a], repetitions=repetitions)\n",
        "    prob = np.sum(samples, axis=0)[0] / repetitions\n",
        "    sampled_probs.append(prob)\n",
        "\n",
        "\n",
        "# Plot the probability of the ground state at each simulation step.\n",
        "plt.style.use('seaborn-v0_8-whitegrid')\n",
        "plt.plot(sampled_probs, 'o')\n",
        "plt.xlabel(\"Step\")\n",
        "plt.ylabel(\"Probability of ground state\");"
      ],
      "metadata": {
        "colab": {
          "base_uri": "https://localhost:8080/",
          "height": 445
        },
        "id": "8WkjBKgZibc2",
        "outputId": "94f78da0-6af9-4a40-c8b8-e66d3667e433"
      },
      "execution_count": null,
      "outputs": [
        {
          "output_type": "display_data",
          "data": {
            "text/plain": [
              "<Figure size 640x480 with 1 Axes>"
            ],
            "image/png": "[encoded data removed]"
          },
          "metadata": {}
        }
      ]
    },
    {
      "cell_type": "code",
      "source": [
        "# @title Custom gates\n",
        "\n",
        "\"\"\"Example of defining a custom gate in Cirq.\"\"\"\n",
        "\n",
        "class RationalGate(cirq.Gate):\n",
        "    def _num_qubits_(self) -> int:\n",
        "        return 1\n",
        "\n",
        "    def _unitary_(self):\n",
        "        return np.array([[3 / 5, 4 / 5], [-4 / 5, 3 / 5]])\n",
        "\n",
        "    def __str__(self):\n",
        "        return 'ζ'"
      ],
      "metadata": {
        "id": "3enRnO_lijVf"
      },
      "execution_count": null,
      "outputs": []
    },
    {
      "cell_type": "code",
      "source": [
        "\"\"\"Using the custom gate in a circuit.\"\"\"\n",
        "a = cirq.NamedQubit('a')\n",
        "rg = RationalGate()\n",
        "print(cirq.Circuit(rg(a)))"
      ],
      "metadata": {
        "colab": {
          "base_uri": "https://localhost:8080/"
        },
        "id": "js3hrio5isAG",
        "outputId": "f6083970-2711-4824-80d7-c710aff6b782"
      },
      "execution_count": null,
      "outputs": [
        {
          "output_type": "stream",
          "name": "stdout",
          "text": [
            "a: ───ζ───\n"
          ]
        }
      ]
    },
    {
      "cell_type": "code",
      "source": [
        "print(cirq.unitary(rg))"
      ],
      "metadata": {
        "colab": {
          "base_uri": "https://localhost:8080/"
        },
        "id": "q3j6pg9SDZhP",
        "outputId": "33a34169-6346-479a-a53a-3afcb7b8be19"
      },
      "execution_count": null,
      "outputs": [
        {
          "output_type": "stream",
          "name": "stdout",
          "text": [
            "[[ 0.6  0.8]\n",
            " [-0.8  0.6]]\n"
          ]
        }
      ]
    },
    {
      "cell_type": "code",
      "source": [
        "\"\"\"Simulate a circuit with a custom gate.\"\"\"\n",
        "circuit = cirq.Circuit(rg(a))\n",
        "simulator = cirq.Simulator()\n",
        "result = simulator.simulate(circuit)\n",
        "print(result.final_state_vector)"
      ],
      "metadata": {
        "colab": {
          "base_uri": "https://localhost:8080/"
        },
        "id": "ekdnfWHHDbje",
        "outputId": "3d388ba9-e93a-48cc-f7a0-497087b6fb1e"
      },
      "execution_count": null,
      "outputs": [
        {
          "output_type": "stream",
          "name": "stdout",
          "text": [
            "[ 0.6+0.j -0.8+0.j]\n"
          ]
        }
      ]
    },
    {
      "cell_type": "code",
      "source": [
        "# @title Exercise: Custom Controlled Rx gate\n",
        "\n",
        "\"\"\"Define a custom controlled cirq.rx gate here.\"\"\"\n",
        "\n",
        "class CRx(cirq.Gate):\n",
        "    def __init__(self, theta):\n",
        "        self.theta = theta\n",
        "\n",
        "    def _num_qubits_(self):\n",
        "        return 2\n",
        "\n",
        "    def _unitary_(self):\n",
        "        return np.array(\n",
        "            [\n",
        "                # Your code here!\n",
        "            ]\n",
        "        )\n",
        "\n",
        "# Print out its unitary.\n",
        "print(np.around(cirq.unitary(CRx(0.5 * np.pi)), 3))"
      ],
      "metadata": {
        "colab": {
          "base_uri": "https://localhost:8080/"
        },
        "id": "pyqhirYcDg_e",
        "outputId": "cd6870db-59d0-472e-e5a3-59c2f18d0b4c"
      },
      "execution_count": null,
      "outputs": [
        {
          "output_type": "stream",
          "name": "stdout",
          "text": [
            "[]\n"
          ]
        }
      ]
    },
    {
      "cell_type": "code",
      "source": [
        "# solution\n",
        "\n",
        "\"\"\"Defining a custom controlled cirq.Rx gate.\"\"\"\n",
        "\n",
        "class CRx(cirq.Gate):\n",
        "    def __init__(self, theta):\n",
        "        self.theta = theta\n",
        "\n",
        "    def _num_qubits_(self):\n",
        "        return 2\n",
        "\n",
        "    def _unitary_(self):\n",
        "        return np.array(\n",
        "            [\n",
        "                [1, 0, 0, 0],\n",
        "                [0, 1, 0, 0],\n",
        "                [0, 0, np.cos(self.theta / 2), -1j * np.sin(self.theta / 2)],\n",
        "                [0, 0, -1j * np.sin(self.theta / 2), np.cos(self.theta / 2)],\n",
        "            ]\n",
        "        )\n",
        "\n",
        "    def _circuit_diagram_info_(self, args):\n",
        "        return '@', f'Rx({self.theta / np.pi}π)'\n",
        "\n",
        "# Print out its unitary.\n",
        "print(np.around(cirq.unitary(CRx(0.5 * np.pi)), 3))"
      ],
      "metadata": {
        "colab": {
          "base_uri": "https://localhost:8080/"
        },
        "id": "NN_7408-DwC-",
        "outputId": "81fc3534-f80c-427f-bb11-5ffd697926f6"
      },
      "execution_count": null,
      "outputs": [
        {
          "output_type": "stream",
          "name": "stdout",
          "text": [
            "[[1.   +0.j    0.   +0.j    0.   +0.j    0.   +0.j   ]\n",
            " [0.   +0.j    1.   +0.j    0.   +0.j    0.   +0.j   ]\n",
            " [0.   +0.j    0.   +0.j    0.707+0.j    0.   -0.707j]\n",
            " [0.   +0.j    0.   +0.j    0.   -0.707j 0.707+0.j   ]]\n"
          ]
        }
      ]
    },
    {
      "cell_type": "code",
      "source": [
        "\"\"\"Display a circuit with the custom gate.\"\"\"\n",
        "# Get qubits.\n",
        "a = cirq.NamedQubit('a')\n",
        "b = cirq.NamedQubit('b')\n",
        "\n",
        "# Display the circuit.\n",
        "circuit = cirq.Circuit(CRx(0.25 * np.pi)(a, b))\n",
        "print('Circuit diagram:')\n",
        "print(circuit)\n",
        "#print(circuit_to_quirk_url(circuit), end=\"\\n\\n\")"
      ],
      "metadata": {
        "colab": {
          "base_uri": "https://localhost:8080/"
        },
        "id": "-YkpdVr5ENTP",
        "outputId": "c45d7d46-b0e3-4b10-9142-8fc862a13783"
      },
      "execution_count": null,
      "outputs": [
        {
          "output_type": "stream",
          "name": "stdout",
          "text": [
            "Circuit diagram:\n",
            "a: ───@───────────\n",
            "      │\n",
            "b: ───Rx(0.25π)───\n"
          ]
        }
      ]
    },
    {
      "cell_type": "code",
      "source": [
        "# @title Decompose Protocol\n",
        "\n",
        "\"\"\"Example of a custom gate which supports the decompose protocol.\"\"\"\n",
        "\n",
        "class HXGate(cirq.Gate):\n",
        "    def _num_qubits_(self) -> int:\n",
        "        return 1\n",
        "\n",
        "    def _decompose_(self, qubits):\n",
        "        return cirq.H(*qubits), cirq.X(*qubits)\n",
        "\n",
        "    def __str__(self):\n",
        "        return 'HX'"
      ],
      "metadata": {
        "id": "apNexzJaEXeG"
      },
      "execution_count": null,
      "outputs": []
    },
    {
      "cell_type": "code",
      "source": [
        "\"\"\"Use the gate in a circuit.\"\"\"\n",
        "HX = HXGate()\n",
        "\n",
        "a = cirq.NamedQubit('a')\n",
        "circuit = cirq.Circuit(HX(a))\n",
        "assert cirq.has_unitary(HX(a))\n",
        "print(circuit, cirq.unitary(circuit), sep=\"\\n\\n\")"
      ],
      "metadata": {
        "colab": {
          "base_uri": "https://localhost:8080/"
        },
        "id": "Y_7JLg5_EkaP",
        "outputId": "91b92c16-a783-4c0c-8b0d-5360e063db24"
      },
      "execution_count": null,
      "outputs": [
        {
          "output_type": "stream",
          "name": "stdout",
          "text": [
            "a: ───HX───\n",
            "\n",
            "[[ 0.70710678+0.j -0.70710678+0.j]\n",
            " [ 0.70710678+0.j  0.70710678+0.j]]\n"
          ]
        }
      ]
    },
    {
      "cell_type": "code",
      "source": [
        "\"\"\"Decompose the gate.\"\"\"\n",
        "print(cirq.Circuit(cirq.decompose(circuit)))"
      ],
      "metadata": {
        "colab": {
          "base_uri": "https://localhost:8080/"
        },
        "id": "LGXHuSd-Et8_",
        "outputId": "fc68937e-e3a5-4e13-bd5c-5b2cdb5caaed"
      },
      "execution_count": null,
      "outputs": [
        {
          "output_type": "stream",
          "name": "stdout",
          "text": [
            "a: ───Y^0.5───X───X───\n"
          ]
        }
      ]
    },
    {
      "cell_type": "code",
      "source": [
        "\"\"\"Decompose the gate once.\"\"\"\n",
        "print(cirq.Circuit(cirq.decompose_once(HX(a))))"
      ],
      "metadata": {
        "colab": {
          "base_uri": "https://localhost:8080/"
        },
        "id": "_dV0LYtqE5Xv",
        "outputId": "33789bf4-4cf1-47ab-a8ff-dae86ae304c6"
      },
      "execution_count": null,
      "outputs": [
        {
          "output_type": "stream",
          "name": "stdout",
          "text": [
            "a: ───H───X───\n"
          ]
        }
      ]
    },
    {
      "cell_type": "code",
      "source": [
        "# @title Gatesets\n",
        "\n",
        "# Insert a type (eg: cirq.XPowGate) to accept all instances of that type.\n",
        "# Insert an instance (eg: cirq.CNOT) to accept only one specific instance of the type.\n",
        "gateset = cirq.Gateset(cirq.XPowGate, cirq.YPowGate, cirq.ZPowGate, cirq.CNOT)\n",
        "\n",
        "# Valid gates and operations are accepted by the gateset.\n",
        "assert cirq.CNOT(*cirq.LineQubit.range(2)) in gateset\n",
        "assert cirq.X**0.5 in gateset\n",
        "\n",
        "# Arbitrary powers of cirq.CXPowGate are not part of the gateset.\n",
        "assert cirq.CNOT**0.5 not in gateset"
      ],
      "metadata": {
        "id": "KV-R1H_tFBf2"
      },
      "execution_count": null,
      "outputs": []
    },
    {
      "cell_type": "code",
      "source": [
        "# @title Parameterized Circuits\n",
        "\n",
        "\"\"\"Define a circuit with parameterized gates.\"\"\"\n",
        "# Import sympy for parameterized values.\n",
        "import sympy as sp\n",
        "\n",
        "# Get qubits to use in the circuit.\n",
        "a = cirq.NamedQubit(\"a\")\n",
        "b = cirq.NamedQubit(\"b\")\n",
        "\n",
        "# Define a parameterized value.\n",
        "val = sp.Symbol(\"s\")\n",
        "\n",
        "# Create a circuit.\n",
        "circuit = cirq.Circuit(cirq.X.on(a) ** val, cirq.X.on(b) ** val)\n",
        "\n",
        "# Display it.\n",
        "print(\"Circuit with parameterized gates:\\n\")\n",
        "print(circuit)"
      ],
      "metadata": {
        "colab": {
          "base_uri": "https://localhost:8080/"
        },
        "id": "zehiP229FSt-",
        "outputId": "53dd88fa-ae5a-4e4a-83d1-5f8f5c943de2"
      },
      "execution_count": null,
      "outputs": [
        {
          "output_type": "stream",
          "name": "stdout",
          "text": [
            "Circuit with parameterized gates:\n",
            "\n",
            "a: ───X^s───\n",
            "\n",
            "b: ───X^s───\n"
          ]
        }
      ]
    },
    {
      "cell_type": "code",
      "source": [
        "\"\"\"Simulate the circuit at multiple parameter values.\"\"\"\n",
        "simulator = cirq.Simulator()\n",
        "\n",
        "# Simulate the circuit for several values of the parameter.\n",
        "num_params = 5\n",
        "for y in range(num_params):\n",
        "    result = simulator.simulate(circuit, param_resolver={\"s\": y / 4.0})\n",
        "    print(f\"s={y}: {np.around(result.final_state_vector, 2)}\\n\")"
      ],
      "metadata": {
        "colab": {
          "base_uri": "https://localhost:8080/"
        },
        "id": "cs-StQglFkev",
        "outputId": "2add1807-0709-4c60-a886-ab478484b960"
      },
      "execution_count": null,
      "outputs": [
        {
          "output_type": "stream",
          "name": "stdout",
          "text": [
            "s=0: [1.+0.j 0.+0.j 0.+0.j 0.+0.j]\n",
            "\n",
            "s=1: [ 0.6 +0.6j   0.25-0.25j  0.25-0.25j -0.1 -0.1j ]\n",
            "\n",
            "s=2: [0. +0.5j 0.5+0.j  0.5+0.j  0. -0.5j]\n",
            "\n",
            "s=3: [-0.1 +0.1j   0.25+0.25j  0.25+0.25j  0.6 -0.6j ]\n",
            "\n",
            "s=4: [0.+0.j 0.+0.j 0.+0.j 1.+0.j]\n",
            "\n"
          ]
        }
      ]
    },
    {
      "cell_type": "code",
      "source": [
        "\"\"\"Simulate the circuit at multiple parameter values.\"\"\"\n",
        "# Get a list of param resolvers.\n",
        "num_params = 5\n",
        "resolvers = [cirq.ParamResolver({'s': y / 8.0}) for y in range(num_params)]\n",
        "\n",
        "# Add measurements to the circuit.\n",
        "circuit.append([cirq.measure(a), cirq.measure(b)])\n",
        "\n",
        "# Simulate the circuit using run_sweep.\n",
        "results = simulator.run_sweep(program=circuit, params=resolvers, repetitions=10)\n",
        "\n",
        "for i, result in enumerate(results):\n",
        "    print(f'params: {result.params.param_dict}\\n{result}\\n')"
      ],
      "metadata": {
        "colab": {
          "base_uri": "https://localhost:8080/"
        },
        "id": "7REoIlmMFstu",
        "outputId": "873af5c3-0385-4ea0-b1a7-023cc0076f10"
      },
      "execution_count": null,
      "outputs": [
        {
          "output_type": "stream",
          "name": "stdout",
          "text": [
            "params: OrderedDict([('s', 0.0)])\n",
            "a=0000000000\n",
            "b=0000000000\n",
            "\n",
            "params: OrderedDict([('s', 0.125)])\n",
            "a=0000000000\n",
            "b=0000001000\n",
            "\n",
            "params: OrderedDict([('s', 0.25)])\n",
            "a=0010000100\n",
            "b=0000000000\n",
            "\n",
            "params: OrderedDict([('s', 0.375)])\n",
            "a=0001010100\n",
            "b=1000001000\n",
            "\n",
            "params: OrderedDict([('s', 0.5)])\n",
            "a=1001010110\n",
            "b=1111110011\n",
            "\n"
          ]
        }
      ]
    },
    {
      "cell_type": "code",
      "source": [
        "results = simulator.sample(program=circuit, params=resolvers, repetitions=10)\n",
        "\n",
        "results.describe()"
      ],
      "metadata": {
        "colab": {
          "base_uri": "https://localhost:8080/",
          "height": 300
        },
        "id": "Yoxc_ROAF_Tf",
        "outputId": "4a27279d-d46b-4127-835d-bf88ef6d59b1"
      },
      "execution_count": null,
      "outputs": [
        {
          "output_type": "execute_result",
          "data": {
            "text/plain": [
              "               s          a          b\n",
              "count  50.000000  50.000000  50.000000\n",
              "mean    0.250000   0.200000   0.220000\n",
              "std     0.178571   0.404061   0.418452\n",
              "min     0.000000   0.000000   0.000000\n",
              "25%     0.125000   0.000000   0.000000\n",
              "50%     0.250000   0.000000   0.000000\n",
              "75%     0.375000   0.000000   0.000000\n",
              "max     0.500000   1.000000   1.000000"
            ],
            "text/html": [
              "\n",
              "  <div id=\"df-bfba582e-f6fa-4cdd-ad70-33c260732601\" class=\"colab-df-container\">\n",
              "    <div>\n",
              "<style scoped>\n",
              "    .dataframe tbody tr th:only-of-type {\n",
              "        vertical-align: middle;\n",
              "    }\n",
              "\n",
              "    .dataframe tbody tr th {\n",
              "        vertical-align: top;\n",
              "    }\n",
              "\n",
              "    .dataframe thead th {\n",
              "        text-align: right;\n",
              "    }\n",
              "</style>\n",
              "<table border=\"1\" class=\"dataframe\">\n",
              "  <thead>\n",
              "    <tr style=\"text-align: right;\">\n",
              "      <th></th>\n",
              "      <th>s</th>\n",
              "      <th>a</th>\n",
              "      <th>b</th>\n",
              "    </tr>\n",
              "  </thead>\n",
              "  <tbody>\n",
              "    <tr>\n",
              "      <th>count</th>\n",
              "      <td>50.000000</td>\n",
              "      <td>50.000000</td>\n",
              "      <td>50.000000</td>\n",
              "    </tr>\n",
              "    <tr>\n",
              "      <th>mean</th>\n",
              "      <td>0.250000</td>\n",
              "      <td>0.200000</td>\n",
              "      <td>0.220000</td>\n",
              "    </tr>\n",
              "    <tr>\n",
              "      <th>std</th>\n",
              "      <td>0.178571</td>\n",
              "      <td>0.404061</td>\n",
              "      <td>0.418452</td>\n",
              "    </tr>\n",
              "    <tr>\n",
              "      <th>min</th>\n",
              "      <td>0.000000</td>\n",
              "      <td>0.000000</td>\n",
              "      <td>0.000000</td>\n",
              "    </tr>\n",
              "    <tr>\n",
              "      <th>25%</th>\n",
              "      <td>0.125000</td>\n",
              "      <td>0.000000</td>\n",
              "      <td>0.000000</td>\n",
              "    </tr>\n",
              "    <tr>\n",
              "      <th>50%</th>\n",
              "      <td>0.250000</td>\n",
              "      <td>0.000000</td>\n",
              "      <td>0.000000</td>\n",
              "    </tr>\n",
              "    <tr>\n",
              "      <th>75%</th>\n",
              "      <td>0.375000</td>\n",
              "      <td>0.000000</td>\n",
              "      <td>0.000000</td>\n",
              "    </tr>\n",
              "    <tr>\n",
              "      <th>max</th>\n",
              "      <td>0.500000</td>\n",
              "      <td>1.000000</td>\n",
              "      <td>1.000000</td>\n",
              "    </tr>\n",
              "  </tbody>\n",
              "</table>\n",
              "</div>\n",
              "    <div class=\"colab-df-buttons\">\n",
              "\n",
              "  <div class=\"colab-df-container\">\n",
              "    <button class=\"colab-df-convert\" onclick=\"convertToInteractive('df-bfba582e-f6fa-4cdd-ad70-33c260732601')\"\n",
              "            title=\"Convert this dataframe to an interactive table.\"\n",
              "            style=\"display:none;\">\n",
              "\n",
              "  <svg xmlns=\"http://www.w3.org/2000/svg\" height=\"24px\" viewBox=\"0 -960 960 960\">\n",
              "    <path d=\"M120-120v-720h720v720H120Zm60-500h600v-160H180v160Zm220 220h160v-160H400v160Zm0 220h160v-160H400v160ZM180-400h160v-160H180v160Zm440 0h160v-160H620v160ZM180-180h160v-160H180v160Zm440 0h160v-160H620v160Z\"/>\n",
              "  </svg>\n",
              "    </button>\n",
              "\n",
              "  <style>\n",
              "    .colab-df-container {\n",
              "      display:flex;\n",
              "      gap: 12px;\n",
              "    }\n",
              "\n",
              "    .colab-df-convert {\n",
              "      background-color: #E8F0FE;\n",
              "      border: none;\n",
              "      border-radius: 50%;\n",
              "      cursor: pointer;\n",
              "      display: none;\n",
              "      fill: #1967D2;\n",
              "      height: 32px;\n",
              "      padding: 0 0 0 0;\n",
              "      width: 32px;\n",
              "    }\n",
              "\n",
              "    .colab-df-convert:hover {\n",
              "      background-color: #E2EBFA;\n",
              "      box-shadow: 0px 1px 2px rgba(60, 64, 67, 0.3), 0px 1px 3px 1px rgba(60, 64, 67, 0.15);\n",
              "      fill: #174EA6;\n",
              "    }\n",
              "\n",
              "    .colab-df-buttons div {\n",
              "      margin-bottom: 4px;\n",
              "    }\n",
              "\n",
              "    [theme=dark] .colab-df-convert {\n",
              "      background-color: #3B4455;\n",
              "      fill: #D2E3FC;\n",
              "    }\n",
              "\n",
              "    [theme=dark] .colab-df-convert:hover {\n",
              "      background-color: #434B5C;\n",
              "      box-shadow: 0px 1px 3px 1px rgba(0, 0, 0, 0.15);\n",
              "      filter: drop-shadow(0px 1px 2px rgba(0, 0, 0, 0.3));\n",
              "      fill: #FFFFFF;\n",
              "    }\n",
              "  </style>\n",
              "\n",
              "    <script>\n",
              "      const buttonEl =\n",
              "        document.querySelector('#df-bfba582e-f6fa-4cdd-ad70-33c260732601 button.colab-df-convert');\n",
              "      buttonEl.style.display =\n",
              "        google.colab.kernel.accessAllowed ? 'block' : 'none';\n",
              "\n",
              "      async function convertToInteractive(key) {\n",
              "        const element = document.querySelector('#df-bfba582e-f6fa-4cdd-ad70-33c260732601');\n",
              "        const dataTable =\n",
              "          await google.colab.kernel.invokeFunction('convertToInteractive',\n",
              "                                                    [key], {});\n",
              "        if (!dataTable) return;\n",
              "\n",
              "        const docLinkHtml = 'Like what you see? Visit the ' +\n",
              "          '<a target=\"_blank\" href=https://colab.research.google.com/notebooks/data_table.ipynb>data table notebook</a>'\n",
              "          + ' to learn more about interactive tables.';\n",
              "        element.innerHTML = '';\n",
              "        dataTable['output_type'] = 'display_data';\n",
              "        await google.colab.output.renderOutput(dataTable, element);\n",
              "        const docLink = document.createElement('div');\n",
              "        docLink.innerHTML = docLinkHtml;\n",
              "        element.appendChild(docLink);\n",
              "      }\n",
              "    </script>\n",
              "  </div>\n",
              "\n",
              "\n",
              "<div id=\"df-8256863c-3bb0-475f-815a-364af3d30910\">\n",
              "  <button class=\"colab-df-quickchart\" onclick=\"quickchart('df-8256863c-3bb0-475f-815a-364af3d30910')\"\n",
              "            title=\"Suggest charts\"\n",
              "            style=\"display:none;\">\n",
              "\n",
              "<svg xmlns=\"http://www.w3.org/2000/svg\" height=\"24px\"viewBox=\"0 0 24 24\"\n",
              "     width=\"24px\">\n",
              "    <g>\n",
              "        <path d=\"M19 3H5c-1.1 0-2 .9-2 2v14c0 1.1.9 2 2 2h14c1.1 0 2-.9 2-2V5c0-1.1-.9-2-2-2zM9 17H7v-7h2v7zm4 0h-2V7h2v10zm4 0h-2v-4h2v4z\"/>\n",
              "    </g>\n",
              "</svg>\n",
              "  </button>\n",
              "\n",
              "<style>\n",
              "  .colab-df-quickchart {\n",
              "      --bg-color: #E8F0FE;\n",
              "      --fill-color: #1967D2;\n",
              "      --hover-bg-color: #E2EBFA;\n",
              "      --hover-fill-color: #174EA6;\n",
              "      --disabled-fill-color: #AAA;\n",
              "      --disabled-bg-color: #DDD;\n",
              "  }\n",
              "\n",
              "  [theme=dark] .colab-df-quickchart {\n",
              "      --bg-color: #3B4455;\n",
              "      --fill-color: #D2E3FC;\n",
              "      --hover-bg-color: #434B5C;\n",
              "      --hover-fill-color: #FFFFFF;\n",
              "      --disabled-bg-color: #3B4455;\n",
              "      --disabled-fill-color: #666;\n",
              "  }\n",
              "\n",
              "  .colab-df-quickchart {\n",
              "    background-color: var(--bg-color);\n",
              "    border: none;\n",
              "    border-radius: 50%;\n",
              "    cursor: pointer;\n",
              "    display: none;\n",
              "    fill: var(--fill-color);\n",
              "    height: 32px;\n",
              "    padding: 0;\n",
              "    width: 32px;\n",
              "  }\n",
              "\n",
              "  .colab-df-quickchart:hover {\n",
              "    background-color: var(--hover-bg-color);\n",
              "    box-shadow: 0 1px 2px rgba(60, 64, 67, 0.3), 0 1px 3px 1px rgba(60, 64, 67, 0.15);\n",
              "    fill: var(--button-hover-fill-color);\n",
              "  }\n",
              "\n",
              "  .colab-df-quickchart-complete:disabled,\n",
              "  .colab-df-quickchart-complete:disabled:hover {\n",
              "    background-color: var(--disabled-bg-color);\n",
              "    fill: var(--disabled-fill-color);\n",
              "    box-shadow: none;\n",
              "  }\n",
              "\n",
              "  .colab-df-spinner {\n",
              "    border: 2px solid var(--fill-color);\n",
              "    border-color: transparent;\n",
              "    border-bottom-color: var(--fill-color);\n",
              "    animation:\n",
              "      spin 1s steps(1) infinite;\n",
              "  }\n",
              "\n",
              "  @keyframes spin {\n",
              "    0% {\n",
              "      border-color: transparent;\n",
              "      border-bottom-color: var(--fill-color);\n",
              "      border-left-color: var(--fill-color);\n",
              "    }\n",
              "    20% {\n",
              "      border-color: transparent;\n",
              "      border-left-color: var(--fill-color);\n",
              "      border-top-color: var(--fill-color);\n",
              "    }\n",
              "    30% {\n",
              "      border-color: transparent;\n",
              "      border-left-color: var(--fill-color);\n",
              "      border-top-color: var(--fill-color);\n",
              "      border-right-color: var(--fill-color);\n",
              "    }\n",
              "    40% {\n",
              "      border-color: transparent;\n",
              "      border-right-color: var(--fill-color);\n",
              "      border-top-color: var(--fill-color);\n",
              "    }\n",
              "    60% {\n",
              "      border-color: transparent;\n",
              "      border-right-color: var(--fill-color);\n",
              "    }\n",
              "    80% {\n",
              "      border-color: transparent;\n",
              "      border-right-color: var(--fill-color);\n",
              "      border-bottom-color: var(--fill-color);\n",
              "    }\n",
              "    90% {\n",
              "      border-color: transparent;\n",
              "      border-bottom-color: var(--fill-color);\n",
              "    }\n",
              "  }\n",
              "</style>\n",
              "\n",
              "  <script>\n",
              "    async function quickchart(key) {\n",
              "      const quickchartButtonEl =\n",
              "        document.querySelector('#' + key + ' button');\n",
              "      quickchartButtonEl.disabled = true;  // To prevent multiple clicks.\n",
              "      quickchartButtonEl.classList.add('colab-df-spinner');\n",
              "      try {\n",
              "        const charts = await google.colab.kernel.invokeFunction(\n",
              "            'suggestCharts', [key], {});\n",
              "      } catch (error) {\n",
              "        console.error('Error during call to suggestCharts:', error);\n",
              "      }\n",
              "      quickchartButtonEl.classList.remove('colab-df-spinner');\n",
              "      quickchartButtonEl.classList.add('colab-df-quickchart-complete');\n",
              "    }\n",
              "    (() => {\n",
              "      let quickchartButtonEl =\n",
              "        document.querySelector('#df-8256863c-3bb0-475f-815a-364af3d30910 button');\n",
              "      quickchartButtonEl.style.display =\n",
              "        google.colab.kernel.accessAllowed ? 'block' : 'none';\n",
              "    })();\n",
              "  </script>\n",
              "</div>\n",
              "    </div>\n",
              "  </div>\n"
            ]
          },
          "metadata": {},
          "execution_count": 49
        }
      ]
    },
    {
      "cell_type": "code",
      "source": [
        "\"\"\"Alternative method of getting a sequence of param resolvers.\"\"\"\n",
        "linspace = cirq.Linspace(start=0, stop=1.0, length=11, key='x')\n",
        "for p in linspace:\n",
        "    print(p)"
      ],
      "metadata": {
        "colab": {
          "base_uri": "https://localhost:8080/"
        },
        "id": "lvhvD5PLGIeO",
        "outputId": "4833be74-3670-4738-e8b1-8fa7196f6a66"
      },
      "execution_count": null,
      "outputs": [
        {
          "output_type": "stream",
          "name": "stdout",
          "text": [
            "cirq.ParamResolver({'x': 0.0})\n",
            "cirq.ParamResolver({'x': 0.1})\n",
            "cirq.ParamResolver({'x': 0.2})\n",
            "cirq.ParamResolver({'x': 0.3})\n",
            "cirq.ParamResolver({'x': 0.4})\n",
            "cirq.ParamResolver({'x': 0.5})\n",
            "cirq.ParamResolver({'x': 0.6})\n",
            "cirq.ParamResolver({'x': 0.7})\n",
            "cirq.ParamResolver({'x': 0.8})\n",
            "cirq.ParamResolver({'x': 0.9})\n",
            "cirq.ParamResolver({'x': 1.0})\n"
          ]
        }
      ]
    },
    {
      "cell_type": "code",
      "source": [
        "# @title Exercise: Rotate a qubit\n",
        "\n",
        "import pandas\n",
        "\n",
        "q = cirq.NamedQubit(\"q\")\n",
        "theta = sp.Symbol(\"theta\")\n",
        "parameterized_circuit = cirq.Circuit(\n",
        "    # your code here\n",
        "    cirq.measure(q)\n",
        ")\n",
        "\n",
        "# replace None with something else\n",
        "param_resolvers = None\n",
        "repetitions = 100\n",
        "results = cirq.Simulator().sample(\n",
        "    program=parameterized_circuit, params=param_resolvers, repetitions=repetitions\n",
        ")\n",
        "\n",
        "# You can test with the following plot\n",
        "#pandas.crosstab(results.theta, results.q).plot()"
      ],
      "metadata": {
        "id": "ns7z0Xe_GRsX"
      },
      "execution_count": null,
      "outputs": []
    },
    {
      "cell_type": "code",
      "source": [
        "# solution\n",
        "import pandas\n",
        "\n",
        "q = cirq.NamedQubit(\"q\")\n",
        "parameterized_circuit = cirq.Circuit([cirq.Rx(rads=sp.Symbol(\"theta\"))(q), cirq.measure(q)])\n",
        "param_resolvers = cirq.Linspace(start=0, stop=np.pi, length=100, key='theta')\n",
        "results = cirq.Simulator().sample(\n",
        "    program=parameterized_circuit, params=param_resolvers, repetitions=repetitions\n",
        ")\n",
        "pandas.crosstab(results.theta, results.q).plot();"
      ],
      "metadata": {
        "colab": {
          "base_uri": "https://localhost:8080/",
          "height": 445
        },
        "id": "F7mlJzyLGa9I",
        "outputId": "a0d2b70a-de8c-4d41-fa64-6480d735594e"
      },
      "execution_count": null,
      "outputs": [
        {
          "output_type": "display_data",
          "data": {
            "text/plain": [
              "<Figure size 640x480 with 1 Axes>"
            ],
            "image/png": "[encoded data removed]"
          },
          "metadata": {}
        }
      ]
    },
    {
      "cell_type": "code",
      "source": [
        "# @title Noise\n",
        "\n",
        "\"\"\"Create a circuit with a depolarizing channel.\"\"\"\n",
        "circuit = cirq.Circuit(cirq.depolarize(0.2)(a), cirq.measure(a))\n",
        "print(circuit)"
      ],
      "metadata": {
        "colab": {
          "base_uri": "https://localhost:8080/"
        },
        "id": "lpPrKh_nGpMW",
        "outputId": "04650c1e-58c7-405a-c8a9-5d67b3222481"
      },
      "execution_count": null,
      "outputs": [
        {
          "output_type": "stream",
          "name": "stdout",
          "text": [
            "a: ───D(0.2)───M───\n"
          ]
        }
      ]
    },
    {
      "cell_type": "code",
      "source": [
        "for i, kraus in enumerate(cirq.kraus(cirq.depolarize(0.2))):\n",
        "    print(f\"Kraus operator {i} is:\", kraus, sep=\"\\n\", end=\"\\n\\n\")"
      ],
      "metadata": {
        "colab": {
          "base_uri": "https://localhost:8080/"
        },
        "id": "7J9vV_rrGzK3",
        "outputId": "0dcb6996-c017-4506-8eb5-7a53bc4b7dce"
      },
      "execution_count": null,
      "outputs": [
        {
          "output_type": "stream",
          "name": "stdout",
          "text": [
            "Kraus operator 0 is:\n",
            "[[0.89442719 0.        ]\n",
            " [0.         0.89442719]]\n",
            "\n",
            "Kraus operator 1 is:\n",
            "[[0.        +0.j 0.25819889+0.j]\n",
            " [0.25819889+0.j 0.        +0.j]]\n",
            "\n",
            "Kraus operator 2 is:\n",
            "[[0.+0.j         0.-0.25819889j]\n",
            " [0.+0.25819889j 0.+0.j        ]]\n",
            "\n",
            "Kraus operator 3 is:\n",
            "[[ 0.25819889+0.j  0.        +0.j]\n",
            " [ 0.        +0.j -0.25819889+0.j]]\n",
            "\n"
          ]
        }
      ]
    },
    {
      "cell_type": "code",
      "source": [
        "for i, kraus in enumerate(cirq.kraus(cirq.depolarize(0.2))):\n",
        "    pauli_ex = cirq.expand_matrix_in_orthogonal_basis(kraus, cirq.PAULI_BASIS)\n",
        "    print(f\"Kraus operator {i} is:\", pauli_ex, sep=\"\\n\", end=\"\\n\\n\")"
      ],
      "metadata": {
        "colab": {
          "base_uri": "https://localhost:8080/"
        },
        "id": "gihGOFkXG-3v",
        "outputId": "943d81f5-e3aa-4770-d9b0-6a45062da416"
      },
      "execution_count": null,
      "outputs": [
        {
          "output_type": "stream",
          "name": "stdout",
          "text": [
            "Kraus operator 0 is:\n",
            "0.894*I\n",
            "\n",
            "Kraus operator 1 is:\n",
            "0.258*X\n",
            "\n",
            "Kraus operator 2 is:\n",
            "0.258*Y\n",
            "\n",
            "Kraus operator 3 is:\n",
            "0.258*Z\n",
            "\n"
          ]
        }
      ]
    },
    {
      "cell_type": "code",
      "source": [
        "\"\"\"Example of simulating a noisy circuit with the density matrix simulator.\"\"\"\n",
        "# Circuit to simulate.\n",
        "circuit = cirq.Circuit(cirq.depolarize(0.2)(a))\n",
        "print(f'Circuit:\\n{circuit}\\n')\n",
        "\n",
        "# Get the density matrix simulator.\n",
        "simulator = cirq.DensityMatrixSimulator()\n",
        "\n",
        "# Simulate the circuit and get the final density matrix.\n",
        "matrix = simulator.simulate(circuit).final_density_matrix\n",
        "print(f'Final density matrix:\\n{matrix}')"
      ],
      "metadata": {
        "colab": {
          "base_uri": "https://localhost:8080/"
        },
        "id": "KleBMABxHDAe",
        "outputId": "f3925e87-e52b-46c0-c03c-f3e76641aa54"
      },
      "execution_count": null,
      "outputs": [
        {
          "output_type": "stream",
          "name": "stdout",
          "text": [
            "Circuit:\n",
            "a: ───D(0.2)───\n",
            "\n",
            "Final density matrix:\n",
            "[[0.8666666 +0.j 0.        +0.j]\n",
            " [0.        +0.j 0.13333333+0.j]]\n"
          ]
        }
      ]
    },
    {
      "cell_type": "code",
      "source": [
        "\"\"\"Simulating a circuit with measurements using the DensityMatrixSimulator.\"\"\"\n",
        "# Get a circuit with measurements.\n",
        "circuit = cirq.Circuit(cirq.depolarize(0.5)(a), cirq.measure(a))\n",
        "\n",
        "# Simulate with the density matrix multiple times.\n",
        "dmat1 = simulator.simulate(circuit).final_density_matrix\n",
        "dmat2 = simulator.simulate(circuit).final_density_matrix\n",
        "\n",
        "print(np.allclose(dmat1, dmat2))"
      ],
      "metadata": {
        "colab": {
          "base_uri": "https://localhost:8080/"
        },
        "id": "LB05a281HJPW",
        "outputId": "11adce5e-08cc-4167-a156-a2419c0e8eca"
      },
      "execution_count": null,
      "outputs": [
        {
          "output_type": "stream",
          "name": "stdout",
          "text": [
            "True\n"
          ]
        }
      ]
    },
    {
      "cell_type": "code",
      "source": [
        "# @title Monte carlo simulations\n",
        "\n",
        "\"\"\"Use the cirq.mixture protocol on the cirq.depolarize channel.\"\"\"\n",
        "for p, u in cirq.mixture(cirq.depolarize(0.2)):\n",
        "    print(f\"prob = {p}\\nunitary: \\n{u}\\n\")"
      ],
      "metadata": {
        "colab": {
          "base_uri": "https://localhost:8080/"
        },
        "id": "WjrugP8vHQhG",
        "outputId": "7db8656d-58d0-41ba-b8c0-34acd798e84a"
      },
      "execution_count": null,
      "outputs": [
        {
          "output_type": "stream",
          "name": "stdout",
          "text": [
            "prob = 0.8\n",
            "unitary: \n",
            "[[1. 0.]\n",
            " [0. 1.]]\n",
            "\n",
            "prob = 0.06666666666666667\n",
            "unitary: \n",
            "[[0.+0.j 1.+0.j]\n",
            " [1.+0.j 0.+0.j]]\n",
            "\n",
            "prob = 0.06666666666666667\n",
            "unitary: \n",
            "[[0.+0.j 0.-1.j]\n",
            " [0.+1.j 0.+0.j]]\n",
            "\n",
            "prob = 0.06666666666666667\n",
            "unitary: \n",
            "[[ 1.+0.j  0.+0.j]\n",
            " [ 0.+0.j -1.+0.j]]\n",
            "\n"
          ]
        }
      ]
    },
    {
      "cell_type": "code",
      "source": [
        "\"\"\"Check if cirq.depolarize has _kraus_ and _mixture_ methods.\"\"\"\n",
        "# Get a depolarizing channel.\n",
        "d = cirq.depolarize(0.2)\n",
        "\n",
        "# Check if it has _kraus_ implemented.\n",
        "print(f\"does cirq.depolarize(0.2) have _kraus_? {'yes' if getattr(d, '_kraus_', None) else 'no'}\")\n",
        "\n",
        "# Check if it has _mixture_ implemented.\n",
        "print(f\"does cirq.depolarize(0.2) have _mixture_? {'yes' if getattr(d, '_mixture_', None) else 'no'}\")"
      ],
      "metadata": {
        "colab": {
          "base_uri": "https://localhost:8080/"
        },
        "id": "bxjEbWXKHW__",
        "outputId": "76919942-cab4-4b54-9300-c4ae91f15c7a"
      },
      "execution_count": null,
      "outputs": [
        {
          "output_type": "stream",
          "name": "stdout",
          "text": [
            "does cirq.depolarize(0.2) have _kraus_? no\n",
            "does cirq.depolarize(0.2) have _mixture_? yes\n"
          ]
        }
      ]
    },
    {
      "cell_type": "code",
      "source": [
        "\"\"\"Use the wavefunction simulator on a channel that implements the mixture protocol.\"\"\"\n",
        "circuit = cirq.Circuit(cirq.depolarize(0.5).on(a), cirq.measure(a))\n",
        "simulator = cirq.Simulator()\n",
        "result = simulator.run(circuit, repetitions=10)\n",
        "print(result)"
      ],
      "metadata": {
        "colab": {
          "base_uri": "https://localhost:8080/"
        },
        "id": "TxYbQIEsHke_",
        "outputId": "0c936b2d-c79e-40fe-fc91-711737cfb679"
      },
      "execution_count": null,
      "outputs": [
        {
          "output_type": "stream",
          "name": "stdout",
          "text": [
            "a=0000100010\n"
          ]
        }
      ]
    },
    {
      "cell_type": "code",
      "source": [
        "# @title Adding noise to circuits and simulations\n",
        "\n",
        "\"\"\"Adding noise to a circuit.\"\"\"\n",
        "# Get a noiseless circuit.\n",
        "noise = cirq.ConstantQubitNoiseModel(cirq.depolarize(0.2))\n",
        "circuit = cirq.Circuit(cirq.H(a), cirq.CNOT(a, b), cirq.measure(a, b))\n",
        "print(f'Circuit with no noise:\\n{circuit}\\n')\n",
        "\n",
        "# Add noise to the circuit.\n",
        "system_qubits = sorted(circuit.all_qubits())\n",
        "noisy_circuit = cirq.Circuit()\n",
        "for moment in circuit:\n",
        "    noisy_circuit.append(noise.noisy_moment(moment, system_qubits))\n",
        "print(f'Circuit with noise:\\n{noisy_circuit}')"
      ],
      "metadata": {
        "colab": {
          "base_uri": "https://localhost:8080/"
        },
        "id": "wCLlaYCSHqW-",
        "outputId": "bec8cdc1-4078-40d7-bdf5-0049c69c856a"
      },
      "execution_count": null,
      "outputs": [
        {
          "output_type": "stream",
          "name": "stdout",
          "text": [
            "Circuit with no noise:\n",
            "a: ───H───@───M───\n",
            "          │   │\n",
            "b: ───────X───M───\n",
            "\n",
            "Circuit with noise:\n",
            "a: ───H───D(0.2)[cirq.VirtualTag()]───@───D(0.2)[cirq.VirtualTag()]───M───D(0.2)[cirq.VirtualTag()]───\n",
            "                                      │                               │\n",
            "b: ───────D(0.2)[cirq.VirtualTag()]───X───D(0.2)[cirq.VirtualTag()]───M───D(0.2)[cirq.VirtualTag()]───\n"
          ]
        }
      ]
    },
    {
      "cell_type": "code",
      "source": [
        "\"\"\"Perform noisy simulation by defining a density matrix simulator with a noise model.\"\"\"\n",
        "# Define a noise model.\n",
        "noise = cirq.ConstantQubitNoiseModel(cirq.depolarize(0.2))\n",
        "\n",
        "# Pass this noise model into the simulator.\n",
        "simulator = cirq.DensityMatrixSimulator(noise=noise)\n",
        "\n",
        "# Get a circuit to simulate.\n",
        "circuit = cirq.Circuit(cirq.H(a), cirq.CNOT(a, b), cirq.measure(a, b))\n",
        "\n",
        "# Simulate the circuit in steps.\n",
        "for i, step in enumerate(simulator.simulate_moment_steps(circuit)):\n",
        "    print(f'After step {i} state was\\n{step.density_matrix()}\\n')"
      ],
      "metadata": {
        "colab": {
          "base_uri": "https://localhost:8080/"
        },
        "id": "gplHji9eH8yx",
        "outputId": "25448c2f-c288-43aa-d591-3a9c47428c9a"
      },
      "execution_count": null,
      "outputs": [
        {
          "output_type": "stream",
          "name": "stdout",
          "text": [
            "After step 0 state was\n",
            "[[0.43333328+0.j 0.        +0.j 0.31777775+0.j 0.        +0.j]\n",
            " [0.        +0.j 0.06666666+0.j 0.        +0.j 0.04888888+0.j]\n",
            " [0.31777775+0.j 0.        +0.j 0.43333328+0.j 0.        +0.j]\n",
            " [0.        +0.j 0.04888888+0.j 0.        +0.j 0.06666666+0.j]]\n",
            "\n",
            "After step 1 state was\n",
            "[[0.34859255+0.j 0.        +0.j 0.        +0.j 0.17089382+0.j]\n",
            " [0.        +0.j 0.15140739+0.j 0.02629136+0.j 0.        +0.j]\n",
            " [0.        +0.j 0.02629136+0.j 0.15140739+0.j 0.        +0.j]\n",
            " [0.17089382+0.j 0.        +0.j 0.        +0.j 0.34859255+0.j]]\n",
            "\n",
            "After step 2 state was\n",
            "[[0.7511109 +0.j 0.        +0.j 0.        +0.j 0.        +0.j]\n",
            " [0.        +0.j 0.11555552+0.j 0.        +0.j 0.        +0.j]\n",
            " [0.        +0.j 0.        +0.j 0.11555552+0.j 0.        +0.j]\n",
            " [0.        +0.j 0.        +0.j 0.        +0.j 0.01777777+0.j]]\n",
            "\n"
          ]
        }
      ]
    },
    {
      "cell_type": "code",
      "source": [
        "# @title Devices\n",
        "\n",
        "print(cirq_google.Sycamore)"
      ],
      "metadata": {
        "colab": {
          "base_uri": "https://localhost:8080/"
        },
        "id": "BAsvwJ18IBHX",
        "outputId": "565f336f-1b4c-42eb-c5fc-f74f3f2155cb"
      },
      "execution_count": null,
      "outputs": [
        {
          "output_type": "stream",
          "name": "stdout",
          "text": [
            "                                             (0, 5)───(0, 6)\n",
            "                                             │        │\n",
            "                                             │        │\n",
            "                                    (1, 4)───(1, 5)───(1, 6)───(1, 7)\n",
            "                                    │        │        │        │\n",
            "                                    │        │        │        │\n",
            "                           (2, 3)───(2, 4)───(2, 5)───(2, 6)───(2, 7)───(2, 8)\n",
            "                           │        │        │        │        │        │\n",
            "                           │        │        │        │        │        │\n",
            "                  (3, 2)───(3, 3)───(3, 4)───(3, 5)───(3, 6)───(3, 7)───(3, 8)───(3, 9)\n",
            "                  │        │        │        │        │        │        │        │\n",
            "                  │        │        │        │        │        │        │        │\n",
            "         (4, 1)───(4, 2)───(4, 3)───(4, 4)───(4, 5)───(4, 6)───(4, 7)───(4, 8)───(4, 9)\n",
            "         │        │        │        │        │        │        │        │\n",
            "         │        │        │        │        │        │        │        │\n",
            "(5, 0)───(5, 1)───(5, 2)───(5, 3)───(5, 4)───(5, 5)───(5, 6)───(5, 7)───(5, 8)\n",
            "         │        │        │        │        │        │        │\n",
            "         │        │        │        │        │        │        │\n",
            "         (6, 1)───(6, 2)───(6, 3)───(6, 4)───(6, 5)───(6, 6)───(6, 7)\n",
            "                  │        │        │        │        │\n",
            "                  │        │        │        │        │\n",
            "                  (7, 2)───(7, 3)───(7, 4)───(7, 5)───(7, 6)\n",
            "                           │        │        │\n",
            "                           │        │        │\n",
            "                           (8, 3)───(8, 4)───(8, 5)\n",
            "                                    │\n",
            "                                    │\n",
            "                                    (9, 4)\n"
          ]
        }
      ]
    },
    {
      "cell_type": "code",
      "source": [
        "\"\"\"Get the duration of an operation.\"\"\"\n",
        "op = cirq.X.on(cirq.GridQubit(5, 5))\n",
        "gate_durations = cirq_google.Sycamore.metadata.gate_durations\n",
        "for gate_family in gate_durations:\n",
        "    if op in gate_family:\n",
        "        print(gate_durations[gate_family])"
      ],
      "metadata": {
        "colab": {
          "base_uri": "https://localhost:8080/"
        },
        "id": "utRMo44AIL6_",
        "outputId": "38a6ab1c-c4b7-4519-9a99-d3e69cfd3707"
      },
      "execution_count": null,
      "outputs": [
        {
          "output_type": "stream",
          "name": "stdout",
          "text": [
            "25 ns\n"
          ]
        }
      ]
    },
    {
      "cell_type": "code",
      "source": [
        "\"\"\"Validate operations on a device.\"\"\"\n",
        "# Get non-adjacent qubits on the Sycamore device.\n",
        "q55 = cirq.GridQubit(5, 5)\n",
        "q56 = cirq.GridQubit(5, 6)\n",
        "q66 = cirq.GridQubit(6, 6)\n",
        "\n",
        "# Operations on adjacent qubits will be validated.\n",
        "cirq_google.Sycamore.validate_operation(cirq.SQRT_ISWAP(q55, q56))\n",
        "cirq_google.Sycamore.validate_operation(cirq.SQRT_ISWAP(q56, q66))\n",
        "\n",
        "# Operation on non-adjacent qubits will raise an error.\n",
        "ops = [cirq.SQRT_ISWAP(q55, q66)]\n",
        "circuit = cirq.Circuit(ops)\n",
        "print(circuit)\n",
        "\n",
        "try:\n",
        "    cirq_google.Sycamore.validate_circuit(circuit)\n",
        "except ValueError as ex:\n",
        "    print(f\"error, as expected: \\n{ex}\")"
      ],
      "metadata": {
        "colab": {
          "base_uri": "https://localhost:8080/"
        },
        "id": "Z0gRMmx1IYef",
        "outputId": "fe1b94f3-33eb-4214-aed2-b75930c5c9f3"
      },
      "execution_count": null,
      "outputs": [
        {
          "output_type": "stream",
          "name": "stdout",
          "text": [
            "(5, 5): ───iSwap───────\n",
            "           │\n",
            "(6, 6): ───iSwap^0.5───\n",
            "error, as expected: \n",
            "Qubit pair is not valid on device: (cirq.GridQubit(5, 5), cirq.GridQubit(6, 6)).\n"
          ]
        }
      ]
    },
    {
      "cell_type": "code",
      "source": [
        "# @title Exercise: Make a Device\n",
        "\n",
        "# solution\n",
        "class SquareDevice(cirq.Device):\n",
        "    \"\"\"A Square Grid Device.\n",
        "\n",
        "    The device that only allows\n",
        "        1) Grid Qubits from (0, 0) to (grid_size - 1, grid_size - 1)\n",
        "        2) H, CZ and MeasurementGate gates.\n",
        "    \"\"\"\n",
        "\n",
        "    def __init__(self, grid_size):\n",
        "        self.qubits = []\n",
        "        for i in range(grid_size):\n",
        "            for j in range(grid_size):\n",
        "                self.qubits.append(cirq.GridQubit(i, j))\n",
        "\n",
        "    def validate_operation(self, operation: 'cirq.Operation') -> None:\n",
        "        if not isinstance(operation, cirq.GateOperation):\n",
        "            raise ValueError(f\"Unsupported operation {operation}\")\n",
        "        if not (\n",
        "            operation.gate in [cirq.H, cirq.CZ] or isinstance(operation.gate, cirq.MeasurementGate)\n",
        "        ):\n",
        "            raise ValueError(f\"Unsupported gate {operation.gate}\")\n",
        "        for qubit in operation.qubits:\n",
        "            if qubit not in self.qubits:\n",
        "                raise ValueError(f\"Qubit {qubit} not on device\")"
      ],
      "metadata": {
        "id": "dacGeE2AIfPv"
      },
      "execution_count": null,
      "outputs": []
    },
    {
      "cell_type": "code",
      "source": [
        "sd = SquareDevice(2)\n",
        "print(sd)"
      ],
      "metadata": {
        "colab": {
          "base_uri": "https://localhost:8080/"
        },
        "id": "ES_mJX6VIy_P",
        "outputId": "e3d96811-7f37-4ecc-9250-dac73ecf3fed"
      },
      "execution_count": null,
      "outputs": [
        {
          "output_type": "stream",
          "name": "stdout",
          "text": [
            "<__main__.SquareDevice object at 0x7b1b818fd180>\n"
          ]
        }
      ]
    },
    {
      "cell_type": "code",
      "source": [
        "# @title Transformers for circuit compilation\n",
        "\n",
        "\"\"\"Example of writing a custom cirq transformer.\"\"\"\n",
        "\n",
        "@cirq.transformer\n",
        "def xz_optimizer(circuit, *, context=None):\n",
        "    \"\"\"Replaces an X followed by a Z with a Y.\"\"\"\n",
        "\n",
        "    def merge_func(op1, op2):\n",
        "        return cirq.Y(*op1.qubits) if op1.gate == cirq.X and op2.gate == cirq.Z else None\n",
        "\n",
        "    return cirq.merge_operations(circuit, merge_func)\n",
        "\n",
        "circuit = cirq.Circuit(cirq.X(a), cirq.Z(a), cirq.CZ(a, b), cirq.X(a))\n",
        "print(f\"Before optimizing:\\n{circuit}\\n\")\n",
        "circuit = xz_optimizer(circuit)\n",
        "print(f\"After optimizing:\\n{circuit}\")"
      ],
      "metadata": {
        "colab": {
          "base_uri": "https://localhost:8080/"
        },
        "id": "LMgTZOs7JAuv",
        "outputId": "fb1abeed-3f1a-4747-9c16-df7a4567a4d6"
      },
      "execution_count": null,
      "outputs": [
        {
          "output_type": "stream",
          "name": "stdout",
          "text": [
            "Before optimizing:\n",
            "a: ───X───Z───@───X───\n",
            "              │\n",
            "b: ───────────@───────\n",
            "\n",
            "After optimizing:\n",
            "a: ───Y───────@───X───\n",
            "              │\n",
            "b: ───────────@───────\n"
          ]
        }
      ]
    },
    {
      "cell_type": "code",
      "source": [
        "# @title Exercise: Simplify flipped CNOTs\n",
        "\n",
        "@cirq.transformer\n",
        "def simplify_flipped_cnots(circuit, *, context=None):\n",
        "    # Use transformer primitives to simplify your circuit.\n",
        "    pass\n",
        "\n",
        "\"\"\"Test your optimizer on this circuit.\"\"\"\n",
        "circuit = cirq.Circuit(\n",
        "    cirq.H.on_each(a, b, c), cirq.CNOT(a, b), cirq.H.on_each(a, b), cirq.CZ(a, b)\n",
        ")\n",
        "print(simplify_flipped_cnots(circuit))"
      ],
      "metadata": {
        "colab": {
          "base_uri": "https://localhost:8080/"
        },
        "id": "CEwjwEJXJ2l_",
        "outputId": "7f8932a3-d2c3-42b8-8bb5-ef4eb87af4dd"
      },
      "execution_count": null,
      "outputs": [
        {
          "output_type": "stream",
          "name": "stdout",
          "text": [
            "None\n"
          ]
        }
      ]
    },
    {
      "cell_type": "code",
      "source": [
        "# solution\n",
        "def simplify_flipped_cnots(circuit, *, context=None):\n",
        "    \"\"\"Replaces a CX surrounded by Hadamards\"\"\"\n",
        "\n",
        "    def can_merge(ops1, ops2):\n",
        "        merged = cirq.Circuit(ops1, ops2)\n",
        "        return (\n",
        "            len(merged) <= 3\n",
        "            and all(o.gate == cirq.H for o in merged[0].operations)\n",
        "            and merged[1].operations[0].gate == cirq.CNOT\n",
        "            and (len(merged) < 3 or all(o.gate == cirq.H for o in merged[2].operations))\n",
        "        )\n",
        "\n",
        "    merged_tag = \"h_cx_h\"\n",
        "    circuit = cirq.merge_operations_to_circuit_op(\n",
        "        circuit, can_merge, merged_circuit_op_tag=merged_tag\n",
        "    )\n",
        "\n",
        "    def map_func(op, _):\n",
        "        if merged_tag not in op.tags:\n",
        "            return op\n",
        "        cops = [*op.untagged.mapped_circuit().all_operations()]\n",
        "        return cirq.CNOT(*cops[2].qubits[::-1]) if len(cops) == 5 else cops\n",
        "\n",
        "    return cirq.map_operations(circuit, map_func)\n",
        "\n",
        "circuit = cirq.Circuit(\n",
        "    cirq.H.on_each(a, b, c), cirq.CNOT(a, b), cirq.H.on_each(a, b), cirq.CZ(a, b)\n",
        ")\n",
        "print(f\"Before optimizing:\\n{circuit}\\n\")\n",
        "print(f\"After optimizing:\\n{simplify_flipped_cnots(circuit)}\")"
      ],
      "metadata": {
        "colab": {
          "base_uri": "https://localhost:8080/"
        },
        "id": "oa3JzhoCKPef",
        "outputId": "41bf1647-b0de-48e9-9ffe-2a91aaef8a47"
      },
      "execution_count": null,
      "outputs": [
        {
          "output_type": "stream",
          "name": "stdout",
          "text": [
            "Before optimizing:\n",
            "a: ───H───@───H───@───\n",
            "          │       │\n",
            "b: ───H───X───H───@───\n",
            "\n",
            "c: ───H───────────────\n",
            "\n",
            "After optimizing:\n",
            "a: ───────X───────@───\n",
            "          │       │\n",
            "b: ───────@───────@───\n",
            "\n",
            "c: ───H───────────────\n"
          ]
        }
      ]
    },
    {
      "cell_type": "code",
      "source": [
        "# @title Compiling to Target Gatesets\n",
        "\n",
        "circuit = cirq.testing.random_circuit(qubits=4, n_moments=6, op_density=0.8, random_state=1234)\n",
        "print(f\"Original Circuit (depth {len(circuit)}):\", circuit)\n",
        "cz_compiled_circuit = cirq.optimize_for_target_gateset(circuit, gateset=cirq.CZTargetGateset())\n",
        "cirq.testing.assert_circuits_with_terminal_measurements_are_equivalent(\n",
        "    circuit, cz_compiled_circuit, atol=1e-6)\n",
        "\n",
        "print(f\"Compiled circuit for CZ Target (depth {len(cz_compiled_circuit)}):\", cz_compiled_circuit)\n",
        "sqrt_iswap_compiled_circuit = cirq.optimize_for_target_gateset(\n",
        "    circuit, gateset=cirq.SqrtIswapTargetGateset())\n",
        "cirq.testing.assert_circuits_with_terminal_measurements_are_equivalent(\n",
        "    circuit, sqrt_iswap_compiled_circuit, atol=1e-6)\n",
        "\n",
        "print(f\"Compiled circuit for Sqrt-Iswap Target (depth {len(sqrt_iswap_compiled_circuit)}):\",\n",
        "      sqrt_iswap_compiled_circuit)"
      ],
      "metadata": {
        "colab": {
          "base_uri": "https://localhost:8080/"
        },
        "id": "toNzfs9BKXp-",
        "outputId": "d8172e06-f4b0-4d72-c3b1-845f7698191b"
      },
      "execution_count": null,
      "outputs": [
        {
          "output_type": "stream",
          "name": "stdout",
          "text": [
            "Original Circuit (depth 6):               ┌──┐                       ┌──┐\n",
            "0: ───iSwap──────────────iSwap───iSwap────@─────\n",
            "      │                  │       │        │\n",
            "1: ───┼─────────×────T───iSwap───iSwap────┼×────\n",
            "      │         │                         ││\n",
            "2: ───┼────────T┼────────X────────────────@┼────\n",
            "      │         │                          │\n",
            "3: ───iSwap─────×──────────────────────────×────\n",
            "              └──┘                       └──┘\n",
            "Compiled circuit for CZ Target (depth 17):                                                                                                                                                                                                         ┌──────────────────┐   ┌───────────────────────┐\n",
            "0: ───PhXZ(a=0.25,x=-0.5,z=0)─────────@───PhXZ(a=0.25,x=0.5,z=5.55e-17)───@───PhXZ(a=-0.75,x=0.5,z=0.5)────────────────────────────────────────────────────────────────PhXZ(a=0,x=0,z=1)──────────────────────────────────────────────────────────────@─────────────────────────────────────────────────────────────────\n",
            "                                      │                                   │                                                                                                                                                                           │\n",
            "1: ───────────────────────────────────┼───────────────────────────────────┼───────────────────────────────@───PhXZ(a=0.5,x=0.5,z=0)───@───PhXZ(a=0.5,x=-0.5,z=0)───@───PhXZ(a=-1.11e-16,x=0.25,z=0.5)────@──────────────────────PhXZ(a=0,x=-0.5,z=0)──┼────@───PhXZ(a=-2.22e-16,x=0.5,z=0)───@───PhXZ(a=0,x=0,z=-0.5)───\n",
            "                                      │                                   │                               │                           │                            │                                     │                                            │    │                                 │\n",
            "2: ───────────────────────────────────┼───────────────────────────────────┼───────────────────────────────┼───────────────────────────┼────────────────────────────┼───PhXZ(a=0,x=0,z=0.25)──────────────┼PhXZ(a=0,x=1,z=0)───────────────────────────@────┼─────────────────────────────────┼──────────────────────────\n",
            "                                      │                                   │                               │                           │                            │                                     │                                                 │                                 │\n",
            "3: ───PhXZ(a=0.25,x=0.5,z=5.55e-17)───@───PhXZ(a=0.25,x=-0.5,z=0)─────────@───PhXZ(a=0.25,x=0.5,z=0.5)────@───PhXZ(a=0.5,x=0.5,z=0)───@───PhXZ(a=0.5,x=-0.5,z=0)───@───PhXZ(a=-0.5,x=0,z=-1)─────────────@──────────────────────PhXZ(a=0.5,x=-0.5,z=0)─────@───PhXZ(a=0.5,x=0.5,z=0)─────────@───PhXZ(a=0,x=0,z=0.5)────\n",
            "                                                                                                                                                                                                        └──────────────────┘   └───────────────────────┘\n",
            "Compiled circuit for Sqrt-Iswap Target (depth 16):                                                                                                                                                                                                              ┌──────────────────┐                                ┌──────────────────┐\n",
            "0: ───PhXZ(a=-4.44e-16,x=0,z=0.5)───iSwap───────iSwap──────────────────────────────────────────────────────────────────────────────────────────────────────────────────────────PhXZ(a=0.5,x=0.5,z=0.5)─────────────────iSwap────────PhXZ(a=0.5,x=1,z=0)────────────────────iSwap────────PhXZ(a=0,x=0.5,z=0)──────────────────────────────────────────────\n",
            "                                    │           │                                                                                                                                                                      │                                                   │\n",
            "1: ─────────────────────────────────┼───────────┼─────────────────────────────────────iSwap───────PhXZ(a=-0.83,x=0.5,z=0.83)───iSwap───────PhXZ(a=0.5,x=0.5,z=0)───iSwap───────PhXZ(a=-0.5,x=0.92,z=0.5)──────iSwap────┼────────────PhXZ(a=0.17,x=0.5,z=-0.17)────iSwap────┼────────────PhXZ(a=0.5,x=0.5,z=0)────iSwap───────PhXZ(a=0.5,x=0.83,z=-0.5)───\n",
            "                                    │           │                                     │                                        │                                   │                                          │        │                                          │        │                                     │\n",
            "2: ─────────────────────────────────┼───────────┼─────────────────────────────────────┼────────────────────────────────────────┼───────────────────────────────────┼───────────PhXZ(a=-1.11e-16,x=0.5,z=0)────┼────────iSwap^0.5──────────────────────────────────┼────────iSwap^0.5────PhXZ(a=0,x=0.5,z=0.25)───┼───────────────────────────────────────\n",
            "                                    │           │                                     │                                        │                                   │                                          │                                                   │                                              │\n",
            "3: ─────────────────────────────────iSwap^0.5───iSwap^0.5───PhXZ(a=-1.0,x=0,z=-0.5)───iSwap^0.5───PhXZ(a=-0.83,x=0.5,z=0.83)───iSwap^0.5───PhXZ(a=0.5,x=0.5,z=0)───iSwap^0.5───PhXZ(a=0.5,x=0.83,z=0.5)───────iSwap^0.5─────────────PhXZ(a=0.17,x=0.5,z=-0.17)────iSwap^0.5─────────────PhXZ(a=0.5,x=0.5,z=0)────iSwap^0.5───PhXZ(a=0.5,x=0.83,z=-1.0)───\n",
            "                                                                                                                                                                                                             └──────────────────┘                                └──────────────────┘\n"
          ]
        }
      ]
    },
    {
      "cell_type": "code",
      "source": [
        "# @title Other interesting things in Cirq\n",
        "\n",
        "# Experiments\n",
        "\n",
        "qubit = cirq.LineQubit(0)\n",
        "result = cirq.experiments.single_qubit_state_tomography(\n",
        "    sampler=cirq.Simulator(),  # In case of Google QCS or other hardware providers, sampler could point at real hardware.\n",
        "    qubit=qubit,\n",
        "    circuit=cirq.Circuit(cirq.Z(qubit), cirq.X(qubit)),\n",
        "    repetitions=1000,\n",
        ")\n",
        "result.plot();"
      ],
      "metadata": {
        "colab": {
          "base_uri": "https://localhost:8080/",
          "height": 442
        },
        "id": "LPe8H5TSK6U3",
        "outputId": "97159b04-2646-41e6-c4b2-a67446032786"
      },
      "execution_count": null,
      "outputs": [
        {
          "output_type": "display_data",
          "data": {
            "text/plain": [
              "<Figure size 1200x500 with 2 Axes>"
            ],
            "image/png": "[encoded data removed]"
          },
          "metadata": {}
        }
      ]
    },
    {
      "cell_type": "code",
      "source": [
        "circuit = cirq.Circuit(cirq.Z(qubit), cirq.X(qubit))\n",
        "print(circuit_to_quirk_url(circuit), end=\"\\n\\n\")"
      ],
      "metadata": {
        "colab": {
          "base_uri": "https://localhost:8080/"
        },
        "id": "bXRE0KhFQSZ3",
        "outputId": "d26d3b98-8a73-4f94-8391-311e9cdddf44"
      },
      "execution_count": null,
      "outputs": [
        {
          "output_type": "stream",
          "name": "stdout",
          "text": [
            "http://algassert.com/quirk#circuit=%7B%22cols%22%3A%5B%5B%22Z%22%5D%2C%5B%22X%22%5D%5D%7D\n",
            "\n"
          ]
        }
      ]
    },
    {
      "cell_type": "code",
      "source": [
        "# Testing\n",
        "\n",
        "class InconsistentXGate(cirq.Gate):\n",
        "    def _num_qubits_(self) -> int:\n",
        "        return 1\n",
        "\n",
        "    def _decompose_(self, qubits):\n",
        "        yield cirq.H(qubits[0])\n",
        "        yield cirq.Z(qubits[0])\n",
        "        yield cirq.H(qubits[0])\n",
        "\n",
        "    def _unitary_(self):\n",
        "        return np.array([[0, -1j], [1j, 0]])  # Oops! Y instead of X!\n",
        "\n",
        "#cirq.testing.assert_decompose_is_consistent_with_unitary(InconsistentXGate())"
      ],
      "metadata": {
        "id": "sTjWm0nZLIj_"
      },
      "execution_count": null,
      "outputs": []
    },
    {
      "cell_type": "code",
      "source": [
        "# Export\n",
        "\n",
        "\"\"\"Export a circuit to Qasm.\"\"\"\n",
        "a, b, c = cirq.LineQubit.range(3)\n",
        "circuit = cirq.Circuit(cirq.H(a), cirq.H(c), cirq.CNOT(a, b), cirq.CCZ(a, b, c))\n",
        "print(circuit.to_qasm())"
      ],
      "metadata": {
        "colab": {
          "base_uri": "https://localhost:8080/"
        },
        "id": "dnBoPNOBLY6I",
        "outputId": "256804bc-cdc7-4ff5-e0a4-f96ef023cafc"
      },
      "execution_count": null,
      "outputs": [
        {
          "output_type": "stream",
          "name": "stdout",
          "text": [
            "// Generated from Cirq v1.3.0.dev20231111003417\n",
            "\n",
            "OPENQASM 2.0;\n",
            "include \"qelib1.inc\";\n",
            "\n",
            "\n",
            "// Qubits: [q(0), q(1), q(2)]\n",
            "qreg q[3];\n",
            "\n",
            "\n",
            "h q[0];\n",
            "h q[2];\n",
            "cx q[0],q[1];\n",
            "\n",
            "// Gate: CCZ\n",
            "h q[2];\n",
            "ccx q[0],q[1],q[2];\n",
            "h q[2];\n",
            "\n"
          ]
        }
      ]
    },
    {
      "cell_type": "code",
      "source": [
        "\"\"\"Export a circuit to a Quirk URL.\"\"\"\n",
        "from cirq.contrib.quirk.export_to_quirk import circuit_to_quirk_url\n",
        "\n",
        "print(circuit_to_quirk_url(circuit))"
      ],
      "metadata": {
        "colab": {
          "base_uri": "https://localhost:8080/"
        },
        "id": "rhtF1Nb8LmoW",
        "outputId": "edb0ebb5-9c4a-4214-d3bc-9cedd009f075"
      },
      "execution_count": null,
      "outputs": [
        {
          "output_type": "stream",
          "name": "stdout",
          "text": [
            "http://algassert.com/quirk#circuit=%7B%22cols%22%3A%5B%5B%22H%22%2C1%2C%22H%22%5D%2C%5B%22%E2%80%A2%22%2C%22X%22%5D%2C%5B%22%E2%80%A2%22%2C%22%E2%80%A2%22%2C%22Z%22%5D%5D%7D\n"
          ]
        }
      ]
    },
    {
      "cell_type": "code",
      "source": [],
      "metadata": {
        "id": "zXsWKqO_L2Ju"
      },
      "execution_count": null,
      "outputs": []
    }
  ]
}