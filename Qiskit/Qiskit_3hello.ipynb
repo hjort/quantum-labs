{
  "cells": [
    {
      "cell_type": "markdown",
      "id": "6810822d",
      "metadata": {
        "id": "6810822d"
      },
      "source": [
        "https://youtu.be/RrUTwq5jKM4?si=rtr8WFGsmKjbd3TZ"
      ]
    },
    {
      "cell_type": "code",
      "execution_count": null,
      "id": "1f0e8a2e",
      "metadata": {
        "id": "1f0e8a2e"
      },
      "outputs": [],
      "source": [
        "#!pip install -q qiskit\n",
        "#!pip install -q qiskit-ibmq-provider\n",
        "#!pip install -q qiskit_ibm_provider\n",
        "#!pip install -q qiskit-aer"
      ]
    },
    {
      "cell_type": "code",
      "execution_count": null,
      "id": "cb2c7dc0",
      "metadata": {
        "id": "cb2c7dc0"
      },
      "outputs": [],
      "source": [
        "#!pip install -q pylatexenc"
      ]
    },
    {
      "cell_type": "code",
      "execution_count": null,
      "id": "de694067",
      "metadata": {
        "id": "de694067"
      },
      "outputs": [],
      "source": [
        "import qiskit"
      ]
    },
    {
      "cell_type": "code",
      "execution_count": null,
      "id": "7206765d",
      "metadata": {
        "id": "7206765d",
        "outputId": "32c8a2dd-5037-41bf-ba27-ec41abe374ae"
      },
      "outputs": [
        {
          "data": {
            "text/plain": [
              "'0.45.0'"
            ]
          },
          "execution_count": 4,
          "metadata": {},
          "output_type": "execute_result"
        }
      ],
      "source": [
        "qiskit.__version__"
      ]
    },
    {
      "cell_type": "code",
      "execution_count": null,
      "id": "b0ba258a",
      "metadata": {
        "id": "b0ba258a",
        "outputId": "c4a195cb-9272-4233-883a-996101e8b62b"
      },
      "outputs": [
        {
          "data": {
            "text/plain": [
              "{'qiskit': '0.45.0', 'qiskit-aer': '0.13.0', 'qiskit-ignis': None, 'qiskit-ibmq-provider': '0.20.2', 'qiskit-nature': None, 'qiskit-finance': None, 'qiskit-optimization': None, 'qiskit-machine-learning': None}"
            ]
          },
          "execution_count": 5,
          "metadata": {},
          "output_type": "execute_result"
        }
      ],
      "source": [
        "qiskit.__qiskit_version__"
      ]
    },
    {
      "cell_type": "code",
      "execution_count": null,
      "id": "313f41c3",
      "metadata": {
        "id": "313f41c3"
      },
      "outputs": [],
      "source": [
        "api_token = '...'"
      ]
    },
    {
      "cell_type": "code",
      "execution_count": null,
      "id": "c7f95d54",
      "metadata": {
        "id": "c7f95d54",
        "outputId": "89121bb0-14f4-4743-abdb-7d65c9dcd382"
      },
      "outputs": [
        {
          "name": "stderr",
          "output_type": "stream",
          "text": [
            "/tmp/ipykernel_2708/1999398629.py:2: DeprecationWarning: The qiskit.IBMQ entrypoint and the qiskit-ibmq-provider package (accessible from 'qiskit.providers.ibmq`) are deprecated and will be removed in a future release. Instead you should use the qiskit-ibm-provider package which is accessible from 'qiskit_ibm_provider'. You can install it with 'pip install qiskit_ibm_provider'. Just replace 'qiskit.IBMQ' with 'qiskit_ibm_provider.IBMProvider'\n",
            "  IBMQ.save_account(api_token)\n",
            "configrc.store_credentials:WARNING:2023-11-15 22:07:14,006: Credentials already present. Set overwrite=True to overwrite.\n"
          ]
        }
      ],
      "source": [
        "from qiskit import IBMQ\n",
        "IBMQ.save_account(api_token)"
      ]
    },
    {
      "cell_type": "code",
      "execution_count": null,
      "id": "c566e67c",
      "metadata": {
        "id": "c566e67c",
        "outputId": "9ae6135e-bd0d-4395-a021-5d23487eac4a"
      },
      "outputs": [
        {
          "data": {
            "text/plain": [
              "<AccountProvider for IBMQ(hub='ibm-q', group='open', project='main')>"
            ]
          },
          "execution_count": 8,
          "metadata": {},
          "output_type": "execute_result"
        }
      ],
      "source": [
        "IBMQ.load_account()"
      ]
    },
    {
      "cell_type": "code",
      "execution_count": null,
      "id": "b5e9271b",
      "metadata": {
        "id": "b5e9271b",
        "outputId": "159ddc9e-a3e1-4e31-87d6-a2b53d4932ba"
      },
      "outputs": [
        {
          "data": {
            "text/plain": [
              "QuantumRegister(2, 'q1')"
            ]
          },
          "execution_count": 9,
          "metadata": {},
          "output_type": "execute_result"
        }
      ],
      "source": [
        "qr = qiskit.QuantumRegister(2)\n",
        "qr"
      ]
    },
    {
      "cell_type": "code",
      "execution_count": null,
      "id": "196ef55b",
      "metadata": {
        "id": "196ef55b",
        "outputId": "0bcee326-558f-4dbb-ab35-0202ab2a82ef"
      },
      "outputs": [
        {
          "data": {
            "text/plain": [
              "ClassicalRegister(2, 'c0')"
            ]
          },
          "execution_count": 10,
          "metadata": {},
          "output_type": "execute_result"
        }
      ],
      "source": [
        "cr = qiskit.ClassicalRegister(2)\n",
        "cr"
      ]
    },
    {
      "cell_type": "code",
      "execution_count": null,
      "id": "1875fbdd",
      "metadata": {
        "id": "1875fbdd",
        "outputId": "669219e4-6269-4db6-825a-f92361ceb92a"
      },
      "outputs": [
        {
          "data": {
            "text/plain": [
              "<qiskit.circuit.quantumcircuit.QuantumCircuit at 0x7f41423a40a0>"
            ]
          },
          "execution_count": 11,
          "metadata": {},
          "output_type": "execute_result"
        }
      ],
      "source": [
        "circuit = qiskit.QuantumCircuit(qr, cr)\n",
        "circuit"
      ]
    },
    {
      "cell_type": "code",
      "execution_count": null,
      "id": "f0216390",
      "metadata": {
        "id": "f0216390"
      },
      "outputs": [],
      "source": [
        "%matplotlib inline"
      ]
    },
    {
      "cell_type": "code",
      "execution_count": null,
      "id": "9445f3a2",
      "metadata": {
        "id": "9445f3a2",
        "outputId": "03a8defe-7281-4579-cc88-95a8275f15d7"
      },
      "outputs": [
        {
          "data": {
            "text/html": [
              "<pre style=\"word-wrap: normal;white-space: pre;background: #fff0;line-height: 1.1;font-family: &quot;Courier New&quot;,Courier,monospace\">      \n",
              "q1_0: \n",
              "      \n",
              "q1_1: \n",
              "      \n",
              "c0: 2/\n",
              "      </pre>"
            ],
            "text/plain": [
              "      \n",
              "q1_0: \n",
              "      \n",
              "q1_1: \n",
              "      \n",
              "c0: 2/\n",
              "      "
            ]
          },
          "execution_count": 13,
          "metadata": {},
          "output_type": "execute_result"
        }
      ],
      "source": [
        "circuit.draw()"
      ]
    },
    {
      "cell_type": "code",
      "execution_count": null,
      "id": "80b0798c",
      "metadata": {
        "id": "80b0798c",
        "outputId": "013f69e0-19bd-4601-eed9-f7f888eb1559"
      },
      "outputs": [
        {
          "data": {
            "text/plain": [
              "<qiskit.circuit.instructionset.InstructionSet at 0x7f414031f880>"
            ]
          },
          "execution_count": 14,
          "metadata": {},
          "output_type": "execute_result"
        }
      ],
      "source": [
        "circuit.h(qr[0])"
      ]
    },
    {
      "cell_type": "code",
      "execution_count": null,
      "id": "8058e298",
      "metadata": {
        "id": "8058e298",
        "outputId": "b192b60e-b46d-40fe-d4e8-a6ce913ca7b0"
      },
      "outputs": [
        {
          "name": "stderr",
          "output_type": "stream",
          "text": [
            "/opt/anaconda3/lib/python3.9/site-packages/qiskit/visualization/circuit/matplotlib.py:266: FutureWarning: The default matplotlib drawer scheme will be changed to \"iqp\" in a following release. To silence this warning, specify the current default explicitly as style=\"clifford\", or the new default as style=\"iqp\".\n",
            "  self._style, def_font_ratio = load_style(self._style)\n"
          ]
        },
        {
          "data": {
            "image/png": "[encoded data removed]",
            "text/plain": [
              "<Figure size 221.914x284.278 with 1 Axes>"
            ]
          },
          "execution_count": 15,
          "metadata": {},
          "output_type": "execute_result"
        }
      ],
      "source": [
        "circuit.draw(output='mpl')"
      ]
    },
    {
      "cell_type": "code",
      "execution_count": null,
      "id": "2987ba4f",
      "metadata": {
        "id": "2987ba4f",
        "outputId": "fa4c0030-0f81-4554-dab2-a0ec0fc5416b"
      },
      "outputs": [
        {
          "data": {
            "text/plain": [
              "<qiskit.circuit.instructionset.InstructionSet at 0x7f41401bdfa0>"
            ]
          },
          "execution_count": 16,
          "metadata": {},
          "output_type": "execute_result"
        }
      ],
      "source": [
        "circuit.cx(qr[0], qr[1])"
      ]
    },
    {
      "cell_type": "code",
      "execution_count": null,
      "id": "f4a40d70",
      "metadata": {
        "id": "f4a40d70",
        "outputId": "38523b0d-a1a5-4a8e-b390-3eb67e5ab53e"
      },
      "outputs": [
        {
          "data": {
            "image/png": "[encoded data removed]",
            "text/plain": [
              "<Figure size 305.525x284.278 with 1 Axes>"
            ]
          },
          "execution_count": 17,
          "metadata": {},
          "output_type": "execute_result"
        }
      ],
      "source": [
        "circuit.draw(output='mpl')"
      ]
    },
    {
      "cell_type": "code",
      "execution_count": null,
      "id": "d33cac04",
      "metadata": {
        "id": "d33cac04",
        "outputId": "31ffd41e-a75d-40f7-ecad-41b7e03b1fb7"
      },
      "outputs": [
        {
          "data": {
            "text/plain": [
              "<qiskit.circuit.instructionset.InstructionSet at 0x7f413ffb3610>"
            ]
          },
          "execution_count": 18,
          "metadata": {},
          "output_type": "execute_result"
        }
      ],
      "source": [
        "circuit.measure(qr, cr)"
      ]
    },
    {
      "cell_type": "code",
      "execution_count": null,
      "id": "abea4db9",
      "metadata": {
        "id": "abea4db9",
        "outputId": "b47d417d-6af1-466b-9984-614d89ae652e"
      },
      "outputs": [
        {
          "data": {
            "image/png": "[encoded data removed]",
            "text/plain": [
              "<Figure size 472.747x284.278 with 1 Axes>"
            ]
          },
          "execution_count": 19,
          "metadata": {},
          "output_type": "execute_result"
        }
      ],
      "source": [
        "circuit.draw(output='mpl')"
      ]
    },
    {
      "cell_type": "code",
      "execution_count": null,
      "id": "8c2840bc",
      "metadata": {
        "id": "8c2840bc",
        "outputId": "9bc24fc7-5dd2-483c-9138-cfd68e5db6ca"
      },
      "outputs": [
        {
          "data": {
            "text/plain": [
              "QasmSimulator('qasm_simulator')"
            ]
          },
          "execution_count": 20,
          "metadata": {},
          "output_type": "execute_result"
        }
      ],
      "source": [
        "simulator = qiskit.Aer.get_backend('qasm_simulator')\n",
        "simulator"
      ]
    },
    {
      "cell_type": "code",
      "execution_count": null,
      "id": "725662ec",
      "metadata": {
        "id": "725662ec",
        "outputId": "d604a950-1dcf-4f00-c132-6c6171825daf"
      },
      "outputs": [
        {
          "data": {
            "text/plain": [
              "<qiskit_aer.jobs.aerjob.AerJob at 0x7f413fd07a30>"
            ]
          },
          "execution_count": 21,
          "metadata": {},
          "output_type": "execute_result"
        }
      ],
      "source": [
        "job = qiskit.execute(circuit, backend=simulator)\n",
        "job"
      ]
    },
    {
      "cell_type": "code",
      "execution_count": null,
      "id": "f7861a93",
      "metadata": {
        "id": "f7861a93",
        "outputId": "42e6d027-5d20-4bfb-db92-d7fde17c6061"
      },
      "outputs": [
        {
          "data": {
            "text/plain": [
              "Result(backend_name='qasm_simulator', backend_version='0.13.0', qobj_id='', job_id='af4c8323-fb6e-479a-b2ef-94e43c142588', success=True, results=[ExperimentResult(shots=1024, success=True, meas_level=2, data=ExperimentResultData(counts={'0x0': 482, '0x3': 542}), header=QobjExperimentHeader(creg_sizes=[['c0', 2]], global_phase=0.0, memory_slots=2, n_qubits=2, name='circuit-158', qreg_sizes=[['q1', 2]], metadata={}), status=DONE, seed_simulator=2824213023, metadata={'time_taken': 0.008092299, 'num_bind_params': 1, 'parallel_state_update': 1, 'parallel_shots': 1, 'required_memory_mb': 1, 'input_qubit_map': [[1, 1], [0, 0]], 'method': 'statevector', 'device': 'CPU', 'num_qubits': 2, 'sample_measure_time': 0.000438587, 'active_input_qubits': [0, 1], 'num_clbits': 2, 'remapped_qubits': False, 'runtime_parameter_bind': False, 'max_memory_mb': 3868, 'noise': 'ideal', 'measure_sampling': True, 'batched_shots_optimization': False, 'fusion': {'applied': False, 'max_fused_qubits': 5, 'threshold': 14, 'enabled': True}}, time_taken=0.008092299)], date=2023-11-15T22:07:26.364216, status=COMPLETED, header=None, metadata={'time_taken_parameter_binding': 2.2639e-05, 'time_taken_execute': 0.008223239, 'omp_enabled': True, 'max_gpu_memory_mb': 0, 'max_memory_mb': 3868, 'parallel_experiments': 1}, time_taken=0.02896595001220703)"
            ]
          },
          "execution_count": 22,
          "metadata": {},
          "output_type": "execute_result"
        }
      ],
      "source": [
        "result = job.result()\n",
        "result"
      ]
    },
    {
      "cell_type": "code",
      "execution_count": null,
      "id": "c5bb0eba",
      "metadata": {
        "id": "c5bb0eba"
      },
      "outputs": [],
      "source": [
        "from qiskit.tools.visualization import plot_histogram"
      ]
    },
    {
      "cell_type": "code",
      "execution_count": null,
      "id": "1b93e0e9",
      "metadata": {
        "id": "1b93e0e9",
        "outputId": "7f6542c2-3a70-416f-e1e6-0e6729917892"
      },
      "outputs": [
        {
          "data": {
            "image/png": "[encoded data removed]",
            "text/plain": [
              "<Figure size 700x500 with 1 Axes>"
            ]
          },
          "execution_count": 24,
          "metadata": {},
          "output_type": "execute_result"
        }
      ],
      "source": [
        "plot_histogram(result.get_counts(circuit))"
      ]
    },
    {
      "cell_type": "code",
      "execution_count": null,
      "id": "43527de0",
      "metadata": {
        "id": "43527de0"
      },
      "outputs": [],
      "source": [
        "#IBMQ.load_account()"
      ]
    },
    {
      "cell_type": "code",
      "execution_count": null,
      "id": "40831980",
      "metadata": {
        "id": "40831980",
        "outputId": "85cd37f4-3d64-4e9b-b8ad-553283bd8e65"
      },
      "outputs": [
        {
          "data": {
            "text/plain": [
              "<AccountProvider for IBMQ(hub='ibm-q', group='open', project='main')>"
            ]
          },
          "execution_count": 26,
          "metadata": {},
          "output_type": "execute_result"
        }
      ],
      "source": [
        "provider = IBMQ.get_provider('ibm-q')\n",
        "provider"
      ]
    },
    {
      "cell_type": "code",
      "execution_count": null,
      "id": "d7c6ccd0",
      "metadata": {
        "id": "d7c6ccd0",
        "outputId": "2690d1f5-a0af-4bdc-b536-ee91bc1a3739"
      },
      "outputs": [
        {
          "data": {
            "text/plain": [
              "[<IBMQSimulator('ibmq_qasm_simulator') from IBMQ(hub='ibm-q', group='open', project='main')>,\n",
              " <IBMQSimulator('simulator_statevector') from IBMQ(hub='ibm-q', group='open', project='main')>,\n",
              " <IBMQSimulator('simulator_mps') from IBMQ(hub='ibm-q', group='open', project='main')>,\n",
              " <IBMQSimulator('simulator_extended_stabilizer') from IBMQ(hub='ibm-q', group='open', project='main')>,\n",
              " <IBMQSimulator('simulator_stabilizer') from IBMQ(hub='ibm-q', group='open', project='main')>,\n",
              " <IBMQBackend('ibm_lagos') from IBMQ(hub='ibm-q', group='open', project='main')>,\n",
              " <IBMQBackend('ibm_nairobi') from IBMQ(hub='ibm-q', group='open', project='main')>,\n",
              " <IBMQBackend('ibm_perth') from IBMQ(hub='ibm-q', group='open', project='main')>,\n",
              " <IBMQBackend('ibm_brisbane') from IBMQ(hub='ibm-q', group='open', project='main')>]"
            ]
          },
          "execution_count": 27,
          "metadata": {},
          "output_type": "execute_result"
        }
      ],
      "source": [
        "provider.backends()"
      ]
    },
    {
      "cell_type": "code",
      "execution_count": null,
      "id": "f52b61df",
      "metadata": {
        "id": "f52b61df",
        "outputId": "b59f7063-c410-41fe-e139-4da6e3e309b8"
      },
      "outputs": [
        {
          "data": {
            "text/plain": [
              "<IBMQBackend('ibm_brisbane') from IBMQ(hub='ibm-q', group='open', project='main')>"
            ]
          },
          "execution_count": 28,
          "metadata": {},
          "output_type": "execute_result"
        }
      ],
      "source": [
        "qcomp = provider.get_backend('ibm_brisbane')\n",
        "qcomp"
      ]
    },
    {
      "cell_type": "code",
      "execution_count": null,
      "id": "6b5138ce",
      "metadata": {
        "id": "6b5138ce",
        "outputId": "4220776b-86cf-493a-fb1c-5e51a85722de"
      },
      "outputs": [
        {
          "data": {
            "text/plain": [
              "<qiskit.providers.ibmq.job.ibmqjob.IBMQJob at 0x7f413f1165e0>"
            ]
          },
          "execution_count": 29,
          "metadata": {},
          "output_type": "execute_result"
        }
      ],
      "source": [
        "job = qiskit.execute(circuit, backend=qcomp)\n",
        "job"
      ]
    },
    {
      "cell_type": "code",
      "execution_count": null,
      "id": "d63a2621",
      "metadata": {
        "id": "d63a2621"
      },
      "outputs": [],
      "source": [
        "from qiskit.tools.monitor import job_monitor"
      ]
    },
    {
      "cell_type": "code",
      "execution_count": null,
      "id": "142257bc",
      "metadata": {
        "id": "142257bc",
        "outputId": "7fb0d43a-fe50-4606-a178-8ecb4024c99c"
      },
      "outputs": [
        {
          "name": "stdout",
          "output_type": "stream",
          "text": [
            "Job Status: job has successfully run\n"
          ]
        }
      ],
      "source": [
        "job_monitor(job)"
      ]
    },
    {
      "cell_type": "code",
      "execution_count": null,
      "id": "637c11cc",
      "metadata": {
        "id": "637c11cc",
        "outputId": "2eac7021-833e-4835-b3dc-154e15b2fa6d"
      },
      "outputs": [
        {
          "data": {
            "text/plain": [
              "Result(backend_name='ibm_brisbane', backend_version='0.0.0', qobj_id='Unknown', job_id='circuit-runner_clamn0jal172ebirlthg_c0fc_0', success=True, results=[ExperimentResult(shots=4000, success=True, meas_level=2, data=ExperimentResultData(counts={'0x2': 63, '0x3': 1918, '0x0': 1889, '0x1': 130}), header=QobjExperimentHeader(clbit_labels=[['c0', 0], ['c0', 1]], creg_sizes=[['c0', 2]], global_phase=5.497787143782138, memory_slots=2, metadata={}, n_qubits=127, name='circuit-158', qreg_sizes=[['q', 127]], qubit_labels=[['q', 0], ['q', 1], ['q', 2], ['q', 3], ['q', 4], ['q', 5], ['q', 6], ['q', 7], ['q', 8], ['q', 9], ['q', 10], ['q', 11], ['q', 12], ['q', 13], ['q', 14], ['q', 15], ['q', 16], ['q', 17], ['q', 18], ['q', 19], ['q', 20], ['q', 21], ['q', 22], ['q', 23], ['q', 24], ['q', 25], ['q', 26], ['q', 27], ['q', 28], ['q', 29], ['q', 30], ['q', 31], ['q', 32], ['q', 33], ['q', 34], ['q', 35], ['q', 36], ['q', 37], ['q', 38], ['q', 39], ['q', 40], ['q', 41], ['q', 42], ['q', 43], ['q', 44], ['q', 45], ['q', 46], ['q', 47], ['q', 48], ['q', 49], ['q', 50], ['q', 51], ['q', 52], ['q', 53], ['q', 54], ['q', 55], ['q', 56], ['q', 57], ['q', 58], ['q', 59], ['q', 60], ['q', 61], ['q', 62], ['q', 63], ['q', 64], ['q', 65], ['q', 66], ['q', 67], ['q', 68], ['q', 69], ['q', 70], ['q', 71], ['q', 72], ['q', 73], ['q', 74], ['q', 75], ['q', 76], ['q', 77], ['q', 78], ['q', 79], ['q', 80], ['q', 81], ['q', 82], ['q', 83], ['q', 84], ['q', 85], ['q', 86], ['q', 87], ['q', 88], ['q', 89], ['q', 90], ['q', 91], ['q', 92], ['q', 93], ['q', 94], ['q', 95], ['q', 96], ['q', 97], ['q', 98], ['q', 99], ['q', 100], ['q', 101], ['q', 102], ['q', 103], ['q', 104], ['q', 105], ['q', 106], ['q', 107], ['q', 108], ['q', 109], ['q', 110], ['q', 111], ['q', 112], ['q', 113], ['q', 114], ['q', 115], ['q', 116], ['q', 117], ['q', 118], ['q', 119], ['q', 120], ['q', 121], ['q', 122], ['q', 123], ['q', 124], ['q', 125], ['q', 126]]), status=done, meas_return=avg)], date=2023-11-15 22:10:21.808000-03:00, status=done, header=QobjHeader(backend_name='ibm_brisbane', backend_version='1.1.9'), execution_id='', time_taken=2.0765134929999998, error=None, client_version={'qiskit': '0.45.0'})"
            ]
          },
          "execution_count": 32,
          "metadata": {},
          "output_type": "execute_result"
        }
      ],
      "source": [
        "result = job.result()\n",
        "result"
      ]
    },
    {
      "cell_type": "code",
      "execution_count": null,
      "id": "19ec4d9c",
      "metadata": {
        "id": "19ec4d9c",
        "outputId": "406b3902-872a-40f4-c225-4b5c383005ff"
      },
      "outputs": [
        {
          "data": {
            "image/png": "[encoded data removed]",
            "text/plain": [
              "<Figure size 700x500 with 1 Axes>"
            ]
          },
          "execution_count": 33,
          "metadata": {},
          "output_type": "execute_result"
        }
      ],
      "source": [
        "plot_histogram(result.get_counts(circuit))"
      ]
    },
    {
      "cell_type": "code",
      "execution_count": null,
      "id": "b31ba259",
      "metadata": {
        "id": "b31ba259"
      },
      "outputs": [],
      "source": []
    }
  ],
  "metadata": {
    "kernelspec": {
      "display_name": "Python 3 (ipykernel)",
      "language": "python",
      "name": "python3"
    },
    "language_info": {
      "codemirror_mode": {
        "name": "ipython",
        "version": 3
      },
      "file_extension": ".py",
      "mimetype": "text/x-python",
      "name": "python",
      "nbconvert_exporter": "python",
      "pygments_lexer": "ipython3",
      "version": "3.9.13"
    },
    "colab": {
      "provenance": []
    }
  },
  "nbformat": 4,
  "nbformat_minor": 5
}